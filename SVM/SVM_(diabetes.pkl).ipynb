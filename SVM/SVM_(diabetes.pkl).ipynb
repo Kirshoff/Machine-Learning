{
 "cells": [
  {
   "cell_type": "markdown",
   "metadata": {
    "id": "D0quJ08gt2Jr"
   },
   "source": [
    "# Support Vector Machine\n",
    "* Genel olarak saglik verilerinde basarili bir modeldir.\n",
    "* 100k uzeri verilerde basarisizdir.\n",
    "* Outliers a karsi sensitive dir.\n",
    "* Verileri dogrusal olarak ayiriyor. Outliers ile basa cikmak icin c, gamma gibi parametrelerle model optimize edilir\n",
    "* if C=1, soft margin\n",
    "* if C=1000, hard margin\n",
    "* C, margine yakinlik veya uzakligina gore ceza verir.\n",
    "* Gamma buyurse daha kompleks siniflandirici haline gelir ve overfitinge gidebilir.\n",
    "* rbf kullanilacaksa C ve Gamma optimize edilmelidir. Ozellikle Gamma !\n",
    "* Gamma buyukse, C onemsiz hale gelir.\n",
    "* 0.0001 < Gamma < 10\n",
    "* 0.1 < C < 100"
   ]
  },
  {
   "cell_type": "code",
   "execution_count": 71,
   "metadata": {
    "colab": {
     "base_uri": "https://localhost:8080/"
    },
    "executionInfo": {
     "elapsed": 2379,
     "status": "ok",
     "timestamp": 1607710300085,
     "user": {
      "displayName": "Fatih Fidan",
      "photoUrl": "https://lh3.googleusercontent.com/a-/AOh14GjX7dAeEzYtBgepe6nYkkXJUfDs4oBO-U7rElWTrg=s64",
      "userId": "14691874301043872333"
     },
     "user_tz": -60
    },
    "id": "1WbEgdoIt2Jx",
    "outputId": "07a1b23e-b862-476c-b964-ac49e9888338"
   },
   "outputs": [],
   "source": [
    "import numpy as np\n",
    "import pandas as pd \n",
    "import statsmodels.api as sm\n",
    "import seaborn as sns\n",
    "import matplotlib.pyplot as plt\n",
    "from sklearn.preprocessing import scale, StandardScaler\n",
    "from sklearn.model_selection import train_test_split, GridSearchCV, cross_val_score\n",
    "from sklearn.metrics import confusion_matrix, accuracy_score, mean_squared_error, r2_score, roc_auc_score, roc_curve, classification_report\n",
    "from sklearn.svm import SVC\n",
    "import warnings\n",
    "warnings.filterwarnings(\"ignore\")"
   ]
  },
  {
   "cell_type": "code",
   "execution_count": 72,
   "metadata": {
    "colab": {
     "base_uri": "https://localhost:8080/",
     "height": 319
    },
    "executionInfo": {
     "elapsed": 511,
     "status": "error",
     "timestamp": 1607710321528,
     "user": {
      "displayName": "Fatih Fidan",
      "photoUrl": "https://lh3.googleusercontent.com/a-/AOh14GjX7dAeEzYtBgepe6nYkkXJUfDs4oBO-U7rElWTrg=s64",
      "userId": "14691874301043872333"
     },
     "user_tz": -60
    },
    "id": "hJv3kX53t2Jy",
    "outputId": "fc6a76df-0ca4-4fae-cc31-eb0dcbd4e958"
   },
   "outputs": [],
   "source": [
    "df=pd.read_pickle(\"diabetes.pkl\")"
   ]
  },
  {
   "cell_type": "code",
   "execution_count": 73,
   "metadata": {
    "colab": {
     "base_uri": "https://localhost:8080/",
     "height": 204
    },
    "id": "VIZc0dBqt2Jy",
    "outputId": "e4d52361-5c76-43c8-d7b8-f3397285b6d1"
   },
   "outputs": [
    {
     "data": {
      "text/html": [
       "<div>\n",
       "<style scoped>\n",
       "    .dataframe tbody tr th:only-of-type {\n",
       "        vertical-align: middle;\n",
       "    }\n",
       "\n",
       "    .dataframe tbody tr th {\n",
       "        vertical-align: top;\n",
       "    }\n",
       "\n",
       "    .dataframe thead th {\n",
       "        text-align: right;\n",
       "    }\n",
       "</style>\n",
       "<table border=\"1\" class=\"dataframe\">\n",
       "  <thead>\n",
       "    <tr style=\"text-align: right;\">\n",
       "      <th></th>\n",
       "      <th>Pregnancies</th>\n",
       "      <th>Glucose</th>\n",
       "      <th>BloodPressure</th>\n",
       "      <th>SkinThickness</th>\n",
       "      <th>Insulin</th>\n",
       "      <th>BMI</th>\n",
       "      <th>DiabetesPedigreeFunction</th>\n",
       "      <th>Age</th>\n",
       "      <th>Outcome</th>\n",
       "    </tr>\n",
       "  </thead>\n",
       "  <tbody>\n",
       "    <tr>\n",
       "      <th>0</th>\n",
       "      <td>6</td>\n",
       "      <td>148</td>\n",
       "      <td>72</td>\n",
       "      <td>35</td>\n",
       "      <td>0</td>\n",
       "      <td>33.6</td>\n",
       "      <td>0.627</td>\n",
       "      <td>50</td>\n",
       "      <td>1</td>\n",
       "    </tr>\n",
       "    <tr>\n",
       "      <th>1</th>\n",
       "      <td>1</td>\n",
       "      <td>85</td>\n",
       "      <td>66</td>\n",
       "      <td>29</td>\n",
       "      <td>0</td>\n",
       "      <td>26.6</td>\n",
       "      <td>0.351</td>\n",
       "      <td>31</td>\n",
       "      <td>0</td>\n",
       "    </tr>\n",
       "    <tr>\n",
       "      <th>2</th>\n",
       "      <td>8</td>\n",
       "      <td>183</td>\n",
       "      <td>64</td>\n",
       "      <td>0</td>\n",
       "      <td>0</td>\n",
       "      <td>23.3</td>\n",
       "      <td>0.672</td>\n",
       "      <td>32</td>\n",
       "      <td>1</td>\n",
       "    </tr>\n",
       "    <tr>\n",
       "      <th>3</th>\n",
       "      <td>1</td>\n",
       "      <td>89</td>\n",
       "      <td>66</td>\n",
       "      <td>23</td>\n",
       "      <td>94</td>\n",
       "      <td>28.1</td>\n",
       "      <td>0.167</td>\n",
       "      <td>21</td>\n",
       "      <td>0</td>\n",
       "    </tr>\n",
       "    <tr>\n",
       "      <th>4</th>\n",
       "      <td>0</td>\n",
       "      <td>137</td>\n",
       "      <td>40</td>\n",
       "      <td>35</td>\n",
       "      <td>168</td>\n",
       "      <td>43.1</td>\n",
       "      <td>2.288</td>\n",
       "      <td>33</td>\n",
       "      <td>1</td>\n",
       "    </tr>\n",
       "  </tbody>\n",
       "</table>\n",
       "</div>"
      ],
      "text/plain": [
       "   Pregnancies  Glucose  BloodPressure  SkinThickness  Insulin   BMI  \\\n",
       "0            6      148             72             35        0  33.6   \n",
       "1            1       85             66             29        0  26.6   \n",
       "2            8      183             64              0        0  23.3   \n",
       "3            1       89             66             23       94  28.1   \n",
       "4            0      137             40             35      168  43.1   \n",
       "\n",
       "   DiabetesPedigreeFunction  Age  Outcome  \n",
       "0                     0.627   50        1  \n",
       "1                     0.351   31        0  \n",
       "2                     0.672   32        1  \n",
       "3                     0.167   21        0  \n",
       "4                     2.288   33        1  "
      ]
     },
     "execution_count": 73,
     "metadata": {},
     "output_type": "execute_result"
    }
   ],
   "source": [
    "df.head()"
   ]
  },
  {
   "cell_type": "code",
   "execution_count": 74,
   "metadata": {
    "colab": {
     "base_uri": "https://localhost:8080/"
    },
    "id": "-s5JHkH9t2Jz",
    "outputId": "b6668dce-4f1c-4abb-c25c-1077df68e34a"
   },
   "outputs": [
    {
     "data": {
      "text/plain": [
       "(707, 9)"
      ]
     },
     "execution_count": 74,
     "metadata": {},
     "output_type": "execute_result"
    }
   ],
   "source": [
    "df.shape"
   ]
  },
  {
   "cell_type": "code",
   "execution_count": 75,
   "metadata": {
    "colab": {
     "base_uri": "https://localhost:8080/",
     "height": 328
    },
    "id": "OjSRRT5b7JI4",
    "outputId": "5e32463f-a29f-4e4b-d147-7dc6b57732a8"
   },
   "outputs": [
    {
     "data": {
      "text/html": [
       "<div>\n",
       "<style scoped>\n",
       "    .dataframe tbody tr th:only-of-type {\n",
       "        vertical-align: middle;\n",
       "    }\n",
       "\n",
       "    .dataframe tbody tr th {\n",
       "        vertical-align: top;\n",
       "    }\n",
       "\n",
       "    .dataframe thead th {\n",
       "        text-align: right;\n",
       "    }\n",
       "</style>\n",
       "<table border=\"1\" class=\"dataframe\">\n",
       "  <thead>\n",
       "    <tr style=\"text-align: right;\">\n",
       "      <th></th>\n",
       "      <th>Pregnancies</th>\n",
       "      <th>Glucose</th>\n",
       "      <th>BloodPressure</th>\n",
       "      <th>SkinThickness</th>\n",
       "      <th>Insulin</th>\n",
       "      <th>BMI</th>\n",
       "      <th>DiabetesPedigreeFunction</th>\n",
       "      <th>Age</th>\n",
       "      <th>Outcome</th>\n",
       "    </tr>\n",
       "  </thead>\n",
       "  <tbody>\n",
       "    <tr>\n",
       "      <th>Pregnancies</th>\n",
       "      <td>1.000000</td>\n",
       "      <td>0.128576</td>\n",
       "      <td>0.197441</td>\n",
       "      <td>-0.102231</td>\n",
       "      <td>-0.074675</td>\n",
       "      <td>-0.006435</td>\n",
       "      <td>-0.023073</td>\n",
       "      <td>0.561993</td>\n",
       "      <td>0.213164</td>\n",
       "    </tr>\n",
       "    <tr>\n",
       "      <th>Glucose</th>\n",
       "      <td>0.128576</td>\n",
       "      <td>1.000000</td>\n",
       "      <td>0.212010</td>\n",
       "      <td>0.055936</td>\n",
       "      <td>0.346205</td>\n",
       "      <td>0.231385</td>\n",
       "      <td>0.133567</td>\n",
       "      <td>0.255720</td>\n",
       "      <td>0.489618</td>\n",
       "    </tr>\n",
       "    <tr>\n",
       "      <th>BloodPressure</th>\n",
       "      <td>0.197441</td>\n",
       "      <td>0.212010</td>\n",
       "      <td>1.000000</td>\n",
       "      <td>0.030161</td>\n",
       "      <td>-0.049453</td>\n",
       "      <td>0.316929</td>\n",
       "      <td>-0.007358</td>\n",
       "      <td>0.326163</td>\n",
       "      <td>0.165914</td>\n",
       "    </tr>\n",
       "    <tr>\n",
       "      <th>SkinThickness</th>\n",
       "      <td>-0.102231</td>\n",
       "      <td>0.055936</td>\n",
       "      <td>0.030161</td>\n",
       "      <td>1.000000</td>\n",
       "      <td>0.435693</td>\n",
       "      <td>0.410868</td>\n",
       "      <td>0.177301</td>\n",
       "      <td>-0.150868</td>\n",
       "      <td>0.086409</td>\n",
       "    </tr>\n",
       "    <tr>\n",
       "      <th>Insulin</th>\n",
       "      <td>-0.074675</td>\n",
       "      <td>0.346205</td>\n",
       "      <td>-0.049453</td>\n",
       "      <td>0.435693</td>\n",
       "      <td>1.000000</td>\n",
       "      <td>0.197213</td>\n",
       "      <td>0.181174</td>\n",
       "      <td>-0.044994</td>\n",
       "      <td>0.151624</td>\n",
       "    </tr>\n",
       "    <tr>\n",
       "      <th>BMI</th>\n",
       "      <td>-0.006435</td>\n",
       "      <td>0.231385</td>\n",
       "      <td>0.316929</td>\n",
       "      <td>0.410868</td>\n",
       "      <td>0.197213</td>\n",
       "      <td>1.000000</td>\n",
       "      <td>0.157796</td>\n",
       "      <td>0.017854</td>\n",
       "      <td>0.294773</td>\n",
       "    </tr>\n",
       "    <tr>\n",
       "      <th>DiabetesPedigreeFunction</th>\n",
       "      <td>-0.023073</td>\n",
       "      <td>0.133567</td>\n",
       "      <td>-0.007358</td>\n",
       "      <td>0.177301</td>\n",
       "      <td>0.181174</td>\n",
       "      <td>0.157796</td>\n",
       "      <td>1.000000</td>\n",
       "      <td>0.026941</td>\n",
       "      <td>0.188072</td>\n",
       "    </tr>\n",
       "    <tr>\n",
       "      <th>Age</th>\n",
       "      <td>0.561993</td>\n",
       "      <td>0.255720</td>\n",
       "      <td>0.326163</td>\n",
       "      <td>-0.150868</td>\n",
       "      <td>-0.044994</td>\n",
       "      <td>0.017854</td>\n",
       "      <td>0.026941</td>\n",
       "      <td>1.000000</td>\n",
       "      <td>0.242064</td>\n",
       "    </tr>\n",
       "    <tr>\n",
       "      <th>Outcome</th>\n",
       "      <td>0.213164</td>\n",
       "      <td>0.489618</td>\n",
       "      <td>0.165914</td>\n",
       "      <td>0.086409</td>\n",
       "      <td>0.151624</td>\n",
       "      <td>0.294773</td>\n",
       "      <td>0.188072</td>\n",
       "      <td>0.242064</td>\n",
       "      <td>1.000000</td>\n",
       "    </tr>\n",
       "  </tbody>\n",
       "</table>\n",
       "</div>"
      ],
      "text/plain": [
       "                          Pregnancies   Glucose  BloodPressure  SkinThickness  \\\n",
       "Pregnancies                  1.000000  0.128576       0.197441      -0.102231   \n",
       "Glucose                      0.128576  1.000000       0.212010       0.055936   \n",
       "BloodPressure                0.197441  0.212010       1.000000       0.030161   \n",
       "SkinThickness               -0.102231  0.055936       0.030161       1.000000   \n",
       "Insulin                     -0.074675  0.346205      -0.049453       0.435693   \n",
       "BMI                         -0.006435  0.231385       0.316929       0.410868   \n",
       "DiabetesPedigreeFunction    -0.023073  0.133567      -0.007358       0.177301   \n",
       "Age                          0.561993  0.255720       0.326163      -0.150868   \n",
       "Outcome                      0.213164  0.489618       0.165914       0.086409   \n",
       "\n",
       "                           Insulin       BMI  DiabetesPedigreeFunction  \\\n",
       "Pregnancies              -0.074675 -0.006435                 -0.023073   \n",
       "Glucose                   0.346205  0.231385                  0.133567   \n",
       "BloodPressure            -0.049453  0.316929                 -0.007358   \n",
       "SkinThickness             0.435693  0.410868                  0.177301   \n",
       "Insulin                   1.000000  0.197213                  0.181174   \n",
       "BMI                       0.197213  1.000000                  0.157796   \n",
       "DiabetesPedigreeFunction  0.181174  0.157796                  1.000000   \n",
       "Age                      -0.044994  0.017854                  0.026941   \n",
       "Outcome                   0.151624  0.294773                  0.188072   \n",
       "\n",
       "                               Age   Outcome  \n",
       "Pregnancies               0.561993  0.213164  \n",
       "Glucose                   0.255720  0.489618  \n",
       "BloodPressure             0.326163  0.165914  \n",
       "SkinThickness            -0.150868  0.086409  \n",
       "Insulin                  -0.044994  0.151624  \n",
       "BMI                       0.017854  0.294773  \n",
       "DiabetesPedigreeFunction  0.026941  0.188072  \n",
       "Age                       1.000000  0.242064  \n",
       "Outcome                   0.242064  1.000000  "
      ]
     },
     "execution_count": 75,
     "metadata": {},
     "output_type": "execute_result"
    }
   ],
   "source": [
    "df.corr()"
   ]
  },
  {
   "cell_type": "code",
   "execution_count": 76,
   "metadata": {
    "colab": {
     "base_uri": "https://localhost:8080/",
     "height": 704
    },
    "id": "t9PmJ2qm7WIZ",
    "outputId": "5023b63b-376c-4d65-d2a3-f98ed31ab46c"
   },
   "outputs": [
    {
     "data": {
      "image/png": "[encoded data removed]",
      "text/plain": [
       "<Figure size 1152x864 with 2 Axes>"
      ]
     },
     "metadata": {
      "needs_background": "light"
     },
     "output_type": "display_data"
    }
   ],
   "source": [
    "plt.figure(figsize=(16,12))\n",
    "sns.heatmap(df.corr(), annot=True);"
   ]
  },
  {
   "cell_type": "code",
   "execution_count": 77,
   "metadata": {},
   "outputs": [
    {
     "data": {
      "image/png": "[encoded data removed]",
      "text/plain": [
       "<Figure size 432x288 with 1 Axes>"
      ]
     },
     "metadata": {
      "needs_background": "light"
     },
     "output_type": "display_data"
    }
   ],
   "source": [
    "# plt.figure(figsize=(8,6))\n",
    "df.corr()[\"Outcome\"].sort_values().plot.barh();"
   ]
  },
  {
   "cell_type": "code",
   "execution_count": 78,
   "metadata": {
    "colab": {
     "base_uri": "https://localhost:8080/"
    },
    "id": "D0I9s_8R70zs",
    "outputId": "d1e45b7c-ff4d-4310-d7a3-66c0bb33aa43"
   },
   "outputs": [
    {
     "data": {
      "text/plain": [
       "0    468\n",
       "1    239\n",
       "Name: Outcome, dtype: int64"
      ]
     },
     "execution_count": 78,
     "metadata": {},
     "output_type": "execute_result"
    }
   ],
   "source": [
    "df.Outcome.value_counts()"
   ]
  },
  {
   "cell_type": "markdown",
   "metadata": {},
   "source": [
    "## Train Test Split"
   ]
  },
  {
   "cell_type": "code",
   "execution_count": 79,
   "metadata": {
    "id": "d4knlBVYt2J0"
   },
   "outputs": [],
   "source": [
    "X=df.drop([\"Outcome\"], axis=1)\n",
    "y=df[\"Outcome\"]\n",
    "X_train, X_test, y_train, y_test = train_test_split(X,y,test_size=0.28, stratify=y, random_state=42)"
   ]
  },
  {
   "cell_type": "markdown",
   "metadata": {
    "id": "PrajgO3Vt2J0"
   },
   "source": [
    "## Train the Model and Predictions"
   ]
  },
  {
   "cell_type": "code",
   "execution_count": 80,
   "metadata": {
    "colab": {
     "base_uri": "https://localhost:8080/"
    },
    "id": "0ludSBcLt2J1",
    "outputId": "80248ff0-7ba0-4011-a5fd-dd588615b3b8"
   },
   "outputs": [],
   "source": [
    "svm_model = SVC().fit(X_train, y_train)\n",
    "y_pred = svm_model.predict(X_test)"
   ]
  },
  {
   "cell_type": "markdown",
   "metadata": {},
   "source": [
    "##  Evaluations"
   ]
  },
  {
   "cell_type": "code",
   "execution_count": 81,
   "metadata": {
    "colab": {
     "base_uri": "https://localhost:8080/"
    },
    "id": "JaNAWJV4t2J2",
    "outputId": "e61719bd-12ba-47b4-a63f-c21f530a69f6"
   },
   "outputs": [
    {
     "name": "stdout",
     "output_type": "stream",
     "text": [
      "Confusion Matrix:\n",
      "[122   9]\n",
      "[35 32]\n",
      "              precision    recall  f1-score   support\n",
      "\n",
      "           0       0.78      0.93      0.85       131\n",
      "           1       0.78      0.48      0.59        67\n",
      "\n",
      "    accuracy                           0.78       198\n",
      "   macro avg       0.78      0.70      0.72       198\n",
      "weighted avg       0.78      0.78      0.76       198\n",
      "\n"
     ]
    }
   ],
   "source": [
    "cnf_matrix=confusion_matrix(y_test,y_pred)\n",
    "print('Confusion Matrix:',*cnf_matrix, sep=\"\\n\")\n",
    "print(classification_report(y_test, y_pred))"
   ]
  },
  {
   "cell_type": "code",
   "execution_count": 82,
   "metadata": {},
   "outputs": [
    {
     "data": {
      "image/png": "[encoded data removed]",
      "text/plain": [
       "<Figure size 432x288 with 2 Axes>"
      ]
     },
     "metadata": {
      "needs_background": "light"
     },
     "output_type": "display_data"
    }
   ],
   "source": [
    "sns.heatmap(cnf_matrix, annot=True, cmap=\"YlGnBu\",fmt='d')\n",
    "plt.ylabel('Actual Label')\n",
    "plt.xlabel('Predicted Label');"
   ]
  },
  {
   "cell_type": "markdown",
   "metadata": {
    "id": "9CuNcYHWt2J2"
   },
   "source": [
    "## Standarization-Retrain-Evaluation"
   ]
  },
  {
   "cell_type": "code",
   "execution_count": 83,
   "metadata": {},
   "outputs": [],
   "source": [
    "from sklearn.preprocessing import scale, StandardScaler"
   ]
  },
  {
   "cell_type": "code",
   "execution_count": 84,
   "metadata": {
    "id": "ptaQbHOSt2J2"
   },
   "outputs": [],
   "source": [
    "sc = StandardScaler()\n",
    "X_train = sc.fit_transform(X_train)\n",
    "X_test = sc.transform(X_test)"
   ]
  },
  {
   "cell_type": "code",
   "execution_count": 85,
   "metadata": {
    "colab": {
     "base_uri": "https://localhost:8080/"
    },
    "id": "v710vLuXt2J3",
    "outputId": "7568d5a1-5470-45d5-8f03-8c75dc222c43"
   },
   "outputs": [],
   "source": [
    "svm_model = SVC().fit(X_train, y_train)\n",
    "y_pred = svm_model.predict(X_test)"
   ]
  },
  {
   "cell_type": "code",
   "execution_count": 86,
   "metadata": {},
   "outputs": [
    {
     "name": "stdout",
     "output_type": "stream",
     "text": [
      "Confusion Matrix:\n",
      "[120  11]\n",
      "[24 43]\n",
      "              precision    recall  f1-score   support\n",
      "\n",
      "           0       0.83      0.92      0.87       131\n",
      "           1       0.80      0.64      0.71        67\n",
      "\n",
      "    accuracy                           0.82       198\n",
      "   macro avg       0.81      0.78      0.79       198\n",
      "weighted avg       0.82      0.82      0.82       198\n",
      "\n"
     ]
    }
   ],
   "source": [
    "cnf_matrix=confusion_matrix(y_test,y_pred)\n",
    "print('Confusion Matrix:',*cnf_matrix, sep=\"\\n\")\n",
    "print(classification_report(y_test, y_pred))"
   ]
  },
  {
   "cell_type": "markdown",
   "metadata": {
    "id": "2v6pzB9yt2J4"
   },
   "source": [
    "## Model Tuning with Gridsearch\n",
    "* if C=1, soft margin\n",
    "* if C=1000, hard margin\n",
    "* C, margine yakinlik veya uzakligina gore ceza verir.\n",
    "* Gamma buyurse daha kompleks siniflandirici haline gelir ve overfitinge gidebilir.\n",
    "* rbf kullanilacaksa C ve Gamma optimize edilmelidir. Ozellikle Gamma !\n",
    "* Gamma buyukse, C onemsiz hale gelir.\n",
    "* 0.0001 < Gamma < 10  \n",
    "* 0.1 < C < 100"
   ]
  },
  {
   "cell_type": "code",
   "execution_count": 87,
   "metadata": {
    "id": "tfLHTMAqt2J4"
   },
   "outputs": [],
   "source": [
    "svm = SVC()"
   ]
  },
  {
   "cell_type": "code",
   "execution_count": 88,
   "metadata": {},
   "outputs": [],
   "source": [
    "param_grid = {'C': [0.1, 1, 50, 70, 100],\n",
    "              'gamma': [1,0.1,0.01,0.001,0.0001], \n",
    "              'kernel': ['rbf','linear']} "
   ]
  },
  {
   "cell_type": "code",
   "execution_count": 89,
   "metadata": {
    "colab": {
     "base_uri": "https://localhost:8080/"
    },
    "id": "RV6ROimYt2J5",
    "outputId": "ecdb588f-facd-4a1f-a813-16aac98b4df0"
   },
   "outputs": [
    {
     "name": "stdout",
     "output_type": "stream",
     "text": [
      "Fitting 5 folds for each of 50 candidates, totalling 250 fits\n"
     ]
    },
    {
     "name": "stderr",
     "output_type": "stream",
     "text": [
      "[Parallel(n_jobs=-1)]: Using backend LokyBackend with 8 concurrent workers.\n",
      "[Parallel(n_jobs=-1)]: Done  25 tasks      | elapsed:    2.2s\n",
      "[Parallel(n_jobs=-1)]: Done 250 out of 250 | elapsed:    4.4s finished\n"
     ]
    }
   ],
   "source": [
    "svm_cv_model = GridSearchCV(svm, param_grid, cv = 5, n_jobs = -1, verbose = 2).fit(X_train, y_train)"
   ]
  },
  {
   "cell_type": "code",
   "execution_count": 90,
   "metadata": {
    "colab": {
     "base_uri": "https://localhost:8080/"
    },
    "id": "95aqM8Rdt2J5",
    "outputId": "ac91b80d-c031-418d-9bec-d70ae111e89a"
   },
   "outputs": [
    {
     "data": {
      "text/plain": [
       "{'C': 50, 'gamma': 0.001, 'kernel': 'rbf'}"
      ]
     },
     "execution_count": 90,
     "metadata": {},
     "output_type": "execute_result"
    }
   ],
   "source": [
    "svm_cv_model.best_params_"
   ]
  },
  {
   "cell_type": "code",
   "execution_count": 91,
   "metadata": {},
   "outputs": [
    {
     "name": "stdout",
     "output_type": "stream",
     "text": [
      "Confusion Matrix:\n",
      "[118  13]\n",
      "[29 38]\n",
      "              precision    recall  f1-score   support\n",
      "\n",
      "           0       0.80      0.90      0.85       131\n",
      "           1       0.75      0.57      0.64        67\n",
      "\n",
      "    accuracy                           0.79       198\n",
      "   macro avg       0.77      0.73      0.75       198\n",
      "weighted avg       0.78      0.79      0.78       198\n",
      "\n"
     ]
    }
   ],
   "source": [
    "y_pred = svm_cv_model.predict(X_test)\n",
    "cnf_matrix=confusion_matrix(y_test,y_pred)\n",
    "print('Confusion Matrix:',*cnf_matrix, sep=\"\\n\")\n",
    "print(classification_report(y_test, y_pred))"
   ]
  },
  {
   "cell_type": "code",
   "execution_count": 92,
   "metadata": {},
   "outputs": [],
   "source": [
    "svm_tuned= SVC(C = 50, gamma= 0.001, kernel= 'rbf').fit(X_train, y_train)"
   ]
  },
  {
   "cell_type": "code",
   "execution_count": 93,
   "metadata": {
    "colab": {
     "base_uri": "https://localhost:8080/"
    },
    "id": "YfbT3V71t2J7",
    "outputId": "1d015727-65a2-4f95-b421-1f69a7b1ec72"
   },
   "outputs": [
    {
     "name": "stdout",
     "output_type": "stream",
     "text": [
      "Confusion Matrix:\n",
      "[118  13]\n",
      "[29 38]\n",
      "              precision    recall  f1-score   support\n",
      "\n",
      "           0       0.80      0.90      0.85       131\n",
      "           1       0.75      0.57      0.64        67\n",
      "\n",
      "    accuracy                           0.79       198\n",
      "   macro avg       0.77      0.73      0.75       198\n",
      "weighted avg       0.78      0.79      0.78       198\n",
      "\n"
     ]
    }
   ],
   "source": [
    "y_pred = svm_tuned.predict(X_test)\n",
    "cnf_matrix=confusion_matrix(y_test,y_pred)\n",
    "print('Confusion Matrix:',*cnf_matrix, sep=\"\\n\")\n",
    "print(classification_report(y_test, y_pred))"
   ]
  }
 ],
 "metadata": {
  "colab": {
   "name": "SVM_Lab.ipynb",
   "provenance": [],
   "toc_visible": true
  },
  "kernelspec": {
   "display_name": "Python 3",
   "language": "python",
   "name": "python3"
  },
  "language_info": {
   "codemirror_mode": {
    "name": "ipython",
    "version": 3
   },
   "file_extension": ".py",
   "mimetype": "text/x-python",
   "name": "python",
   "nbconvert_exporter": "python",
   "pygments_lexer": "ipython3",
   "version": "3.8.5"
  }
 },
 "nbformat": 4,
 "nbformat_minor": 1
}
