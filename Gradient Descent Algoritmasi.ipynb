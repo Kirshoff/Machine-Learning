{
 "cells": [
  {
   "cell_type": "markdown",
   "metadata": {},
   "source": [
    "### Gradient Descent Algoritmasi"
   ]
  },
  {
   "cell_type": "code",
   "execution_count": null,
   "metadata": {},
   "outputs": [],
   "source": [
    "import numpy as np\n",
    "import matplotlib.pyplot as plt"
   ]
  },
  {
   "cell_type": "code",
   "execution_count": 3,
   "metadata": {},
   "outputs": [],
   "source": [
    "\"\"\"grafiğe yerleştirilecek rastgele değerler oluşturalım\"\"\"\n",
    "x=np.arange(1,11)\n",
    "y=np.array([1.1,3.2,4.5,5.7,10,11.5,12.8,15,16.5,20.1])"
   ]
  },
  {
   "cell_type": "code",
   "execution_count": 4,
   "metadata": {},
   "outputs": [],
   "source": [
    "\"\"\"       H(x) = teta0 + teta1*x    \"\"\"\n",
    "teta = np.ones((2,1)) #tetalara gecici olarak 1 verdik\n",
    "egitimSayisi = len(x)  #eğitim sayımızı x'in boyutuna eşitledik"
   ]
  },
  {
   "cell_type": "code",
   "execution_count": 9,
   "metadata": {},
   "outputs": [
    {
     "data": {
      "image/png": "[encoded data removed]",
      "text/plain": [
       "<Figure size 432x288 with 1 Axes>"
      ]
     },
     "metadata": {
      "needs_background": "light"
     },
     "output_type": "display_data"
    }
   ],
   "source": [
    "\"\"\" J(teta)=1/(2m) * SUM(h(x)-y)\"\"\"\n",
    "\n",
    "plt.scatter(x,y)\n",
    "\n",
    "errorFonk= 1/(2*egitimSayisi)*pow((teta[0]+teta[1]*x-y),2) #error fonksiyonumuz\n",
    "epsilon=10e-9  #maximum hatamızı söyler\n",
    "learningRate=0.0001  #öğrenme katsayımız\n",
    "i=0\n",
    "deneme=0\n",
    "max_deneme=10000 #döngü sayısını sınırlandırmak için yaptık\n",
    "\n",
    "while sum(errorFonk)>epsilon and  deneme<max_deneme:       \n",
    "    while  i<egitimSayisi:\n",
    "        temp0=teta[0] - learningRate*(1/egitimSayisi) * (teta[0] + teta[1] * x[i] - y[i])\n",
    "        temp1=teta[1] - learningRate*(1/(egitimSayisi)) * (teta[0] + teta[1] * x[i] - y[i]) * x[i]\n",
    "        teta[0]=temp0\n",
    "        teta[1]=temp1\n",
    "        errorFonk[i]= 1/(2*egitimSayisi)*pow((teta[0]+teta[1]*x[i]-y[i]),2)        \n",
    "        i+=1\n",
    "    deneme+=1    \n",
    "    i=0\n",
    "    \n",
    "plt.plot(x,teta[0]+x*teta[1])\n",
    "plt.show()"
   ]
  },
  {
   "cell_type": "code",
   "execution_count": null,
   "metadata": {},
   "outputs": [],
   "source": []
  },
  {
   "cell_type": "code",
   "execution_count": null,
   "metadata": {},
   "outputs": [],
   "source": []
  },
  {
   "cell_type": "code",
   "execution_count": null,
   "metadata": {},
   "outputs": [],
   "source": []
  }
 ],
 "metadata": {
  "kernelspec": {
   "display_name": "Python 3",
   "language": "python",
   "name": "python3"
  },
  "language_info": {
   "codemirror_mode": {
    "name": "ipython",
    "version": 3
   },
   "file_extension": ".py",
   "mimetype": "text/x-python",
   "name": "python",
   "nbconvert_exporter": "python",
   "pygments_lexer": "ipython3",
   "version": "3.8.3"
  }
 },
 "nbformat": 4,
 "nbformat_minor": 4
}
