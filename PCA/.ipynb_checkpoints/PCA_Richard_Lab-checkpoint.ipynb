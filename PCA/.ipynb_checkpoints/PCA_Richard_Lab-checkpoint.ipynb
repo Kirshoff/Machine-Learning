{
 "cells": [
  {
   "cell_type": "markdown",
   "metadata": {},
   "source": [
    "# PCA (Principal Component Analysis)"
   ]
  },
  {
   "cell_type": "markdown",
   "metadata": {},
   "source": [
    "* Boyut buyuk olunca zaman ve maliyet artıyor, 3D sonrasi görselleştirmek zor. \n",
    "* High correlations a sahip feature lar overfittinge sebep oluyor ve gereksiz yuk oluyor. En değerli feature bulmaya calisiriz. PCA(temel bileşenler analizi), yüksek boyutlu verilerde boyut azaltma metoudur.\n",
    "* PCA ile maksimum varyansi minimum degisken sayisiyla oluşturuyoruz. Herhangi bir referansa bagli olmaksisin, öznitelikleri kullandigindan unsupervised bir algoritmadır.\n",
    "* feature selection: 100 featuredan en önemli 10 taneyi seçmek\n",
    "* feature extraction; en yüksek varyansi en dusuk sayida feature ile veren optimum noktada feature seçiyor.\n",
    "* PCA (Principal component Analysis) boyut azaltma algoritmasıdır. Amac, model algoritmasini  hızlı hale getirip daha iyi sonuç almak, hem görselleştirme olarak hemde daha az overfiting tehlikesi olarak.\n",
    "* Undersampling rowwise, pca ise feauture wise diyebiliriz\n",
    "* Yeni features birbiri ile correle değil\n",
    "* Model performansi artar\n",
    "* PCA sonrasi kalan feature verisi direk bakip orijinal veri kadar yorumlanamaz.\n",
    "\n",
    "> Dataset bir modele sokulur, modelde problem varsa, cozum dusunulur:\n",
    "* Veri setini artirmak, \n",
    "* Modeli değiştirmek,\n",
    "* GridSearch ile daha basarili parametreler bulmak \n",
    "* Tekrar EDA yapmak\n",
    "* PCA yapmak.\n"
   ]
  },
  {
   "cell_type": "code",
   "execution_count": 234,
   "metadata": {},
   "outputs": [],
   "source": [
    "import numpy as np\n",
    "import pandas as pd \n",
    "import seaborn as sns\n",
    "import matplotlib.pyplot as plt\n",
    "from sklearn.cluster import KMeans\n",
    "from sklearn.preprocessing import StandardScaler\n",
    "from sklearn.decomposition import PCA\n",
    "\n",
    "\n",
    "import warnings\n",
    "warnings.filterwarnings(\"ignore\", category=DeprecationWarning) \n",
    "warnings.filterwarnings(\"ignore\", category=FutureWarning)"
   ]
  },
  {
   "cell_type": "code",
   "execution_count": 235,
   "metadata": {},
   "outputs": [
    {
     "data": {
      "text/html": [
       "<div>\n",
       "<style scoped>\n",
       "    .dataframe tbody tr th:only-of-type {\n",
       "        vertical-align: middle;\n",
       "    }\n",
       "\n",
       "    .dataframe tbody tr th {\n",
       "        vertical-align: top;\n",
       "    }\n",
       "\n",
       "    .dataframe thead th {\n",
       "        text-align: right;\n",
       "    }\n",
       "</style>\n",
       "<table border=\"1\" class=\"dataframe\">\n",
       "  <thead>\n",
       "    <tr style=\"text-align: right;\">\n",
       "      <th></th>\n",
       "      <th>Alcohol</th>\n",
       "      <th>Malic_Acid</th>\n",
       "      <th>Ash</th>\n",
       "      <th>Ash_Alcanity</th>\n",
       "      <th>Magnesium</th>\n",
       "      <th>Total_Phenols</th>\n",
       "      <th>Flavanoids</th>\n",
       "      <th>Nonflavanoid_Phenols</th>\n",
       "      <th>Proanthocyanins</th>\n",
       "      <th>Color_Intensity</th>\n",
       "      <th>Hue</th>\n",
       "      <th>OD280</th>\n",
       "      <th>Proline</th>\n",
       "      <th>Customer_Segment</th>\n",
       "    </tr>\n",
       "  </thead>\n",
       "  <tbody>\n",
       "    <tr>\n",
       "      <th>0</th>\n",
       "      <td>14.23</td>\n",
       "      <td>1.71</td>\n",
       "      <td>2.43</td>\n",
       "      <td>15.6</td>\n",
       "      <td>127</td>\n",
       "      <td>2.80</td>\n",
       "      <td>3.06</td>\n",
       "      <td>0.28</td>\n",
       "      <td>2.29</td>\n",
       "      <td>5.64</td>\n",
       "      <td>1.04</td>\n",
       "      <td>3.92</td>\n",
       "      <td>1065</td>\n",
       "      <td>1</td>\n",
       "    </tr>\n",
       "    <tr>\n",
       "      <th>1</th>\n",
       "      <td>13.20</td>\n",
       "      <td>1.78</td>\n",
       "      <td>2.14</td>\n",
       "      <td>11.2</td>\n",
       "      <td>100</td>\n",
       "      <td>2.65</td>\n",
       "      <td>2.76</td>\n",
       "      <td>0.26</td>\n",
       "      <td>1.28</td>\n",
       "      <td>4.38</td>\n",
       "      <td>1.05</td>\n",
       "      <td>3.40</td>\n",
       "      <td>1050</td>\n",
       "      <td>1</td>\n",
       "    </tr>\n",
       "    <tr>\n",
       "      <th>2</th>\n",
       "      <td>13.16</td>\n",
       "      <td>2.36</td>\n",
       "      <td>2.67</td>\n",
       "      <td>18.6</td>\n",
       "      <td>101</td>\n",
       "      <td>2.80</td>\n",
       "      <td>3.24</td>\n",
       "      <td>0.30</td>\n",
       "      <td>2.81</td>\n",
       "      <td>5.68</td>\n",
       "      <td>1.03</td>\n",
       "      <td>3.17</td>\n",
       "      <td>1185</td>\n",
       "      <td>1</td>\n",
       "    </tr>\n",
       "    <tr>\n",
       "      <th>3</th>\n",
       "      <td>14.37</td>\n",
       "      <td>1.95</td>\n",
       "      <td>2.50</td>\n",
       "      <td>16.8</td>\n",
       "      <td>113</td>\n",
       "      <td>3.85</td>\n",
       "      <td>3.49</td>\n",
       "      <td>0.24</td>\n",
       "      <td>2.18</td>\n",
       "      <td>7.80</td>\n",
       "      <td>0.86</td>\n",
       "      <td>3.45</td>\n",
       "      <td>1480</td>\n",
       "      <td>1</td>\n",
       "    </tr>\n",
       "    <tr>\n",
       "      <th>4</th>\n",
       "      <td>13.24</td>\n",
       "      <td>2.59</td>\n",
       "      <td>2.87</td>\n",
       "      <td>21.0</td>\n",
       "      <td>118</td>\n",
       "      <td>2.80</td>\n",
       "      <td>2.69</td>\n",
       "      <td>0.39</td>\n",
       "      <td>1.82</td>\n",
       "      <td>4.32</td>\n",
       "      <td>1.04</td>\n",
       "      <td>2.93</td>\n",
       "      <td>735</td>\n",
       "      <td>1</td>\n",
       "    </tr>\n",
       "  </tbody>\n",
       "</table>\n",
       "</div>"
      ],
      "text/plain": [
       "   Alcohol  Malic_Acid   Ash  Ash_Alcanity  Magnesium  Total_Phenols  \\\n",
       "0    14.23        1.71  2.43          15.6        127           2.80   \n",
       "1    13.20        1.78  2.14          11.2        100           2.65   \n",
       "2    13.16        2.36  2.67          18.6        101           2.80   \n",
       "3    14.37        1.95  2.50          16.8        113           3.85   \n",
       "4    13.24        2.59  2.87          21.0        118           2.80   \n",
       "\n",
       "   Flavanoids  Nonflavanoid_Phenols  Proanthocyanins  Color_Intensity   Hue  \\\n",
       "0        3.06                  0.28             2.29             5.64  1.04   \n",
       "1        2.76                  0.26             1.28             4.38  1.05   \n",
       "2        3.24                  0.30             2.81             5.68  1.03   \n",
       "3        3.49                  0.24             2.18             7.80  0.86   \n",
       "4        2.69                  0.39             1.82             4.32  1.04   \n",
       "\n",
       "   OD280  Proline  Customer_Segment  \n",
       "0   3.92     1065                 1  \n",
       "1   3.40     1050                 1  \n",
       "2   3.17     1185                 1  \n",
       "3   3.45     1480                 1  \n",
       "4   2.93      735                 1  "
      ]
     },
     "execution_count": 235,
     "metadata": {},
     "output_type": "execute_result"
    }
   ],
   "source": [
    "df = pd.read_csv(\"Wine.csv\")\n",
    "df.head()"
   ]
  },
  {
   "cell_type": "code",
   "execution_count": 236,
   "metadata": {},
   "outputs": [
    {
     "data": {
      "text/plain": [
       "Alcohol                 0\n",
       "Malic_Acid              0\n",
       "Ash                     0\n",
       "Ash_Alcanity            0\n",
       "Magnesium               0\n",
       "Total_Phenols           0\n",
       "Flavanoids              0\n",
       "Nonflavanoid_Phenols    0\n",
       "Proanthocyanins         0\n",
       "Color_Intensity         0\n",
       "Hue                     0\n",
       "OD280                   0\n",
       "Proline                 0\n",
       "Customer_Segment        0\n",
       "dtype: int64"
      ]
     },
     "execution_count": 236,
     "metadata": {},
     "output_type": "execute_result"
    }
   ],
   "source": [
    "df.isnull().sum()"
   ]
  },
  {
   "cell_type": "code",
   "execution_count": 237,
   "metadata": {},
   "outputs": [
    {
     "data": {
      "text/plain": [
       "(178, 14)"
      ]
     },
     "execution_count": 237,
     "metadata": {},
     "output_type": "execute_result"
    }
   ],
   "source": [
    "df.shape"
   ]
  },
  {
   "cell_type": "code",
   "execution_count": 238,
   "metadata": {},
   "outputs": [],
   "source": [
    "# df.dropna(inplace = True)"
   ]
  },
  {
   "cell_type": "code",
   "execution_count": 239,
   "metadata": {},
   "outputs": [
    {
     "name": "stdout",
     "output_type": "stream",
     "text": [
      "<class 'pandas.core.frame.DataFrame'>\n",
      "RangeIndex: 178 entries, 0 to 177\n",
      "Data columns (total 14 columns):\n",
      " #   Column                Non-Null Count  Dtype  \n",
      "---  ------                --------------  -----  \n",
      " 0   Alcohol               178 non-null    float64\n",
      " 1   Malic_Acid            178 non-null    float64\n",
      " 2   Ash                   178 non-null    float64\n",
      " 3   Ash_Alcanity          178 non-null    float64\n",
      " 4   Magnesium             178 non-null    int64  \n",
      " 5   Total_Phenols         178 non-null    float64\n",
      " 6   Flavanoids            178 non-null    float64\n",
      " 7   Nonflavanoid_Phenols  178 non-null    float64\n",
      " 8   Proanthocyanins       178 non-null    float64\n",
      " 9   Color_Intensity       178 non-null    float64\n",
      " 10  Hue                   178 non-null    float64\n",
      " 11  OD280                 178 non-null    float64\n",
      " 12  Proline               178 non-null    int64  \n",
      " 13  Customer_Segment      178 non-null    int64  \n",
      "dtypes: float64(11), int64(3)\n",
      "memory usage: 19.6 KB\n"
     ]
    }
   ],
   "source": [
    "df.info()"
   ]
  },
  {
   "cell_type": "code",
   "execution_count": 240,
   "metadata": {},
   "outputs": [
    {
     "data": {
      "text/plain": [
       "Alcohol                 126\n",
       "Malic_Acid              133\n",
       "Ash                      79\n",
       "Ash_Alcanity             63\n",
       "Magnesium                53\n",
       "Total_Phenols            97\n",
       "Flavanoids              132\n",
       "Nonflavanoid_Phenols     39\n",
       "Proanthocyanins         101\n",
       "Color_Intensity         132\n",
       "Hue                      78\n",
       "OD280                   122\n",
       "Proline                 121\n",
       "Customer_Segment          3\n",
       "dtype: int64"
      ]
     },
     "execution_count": 240,
     "metadata": {},
     "output_type": "execute_result"
    }
   ],
   "source": [
    "df.apply(lambda x: x.nunique())"
   ]
  },
  {
   "cell_type": "code",
   "execution_count": 241,
   "metadata": {},
   "outputs": [
    {
     "name": "stdout",
     "output_type": "stream",
     "text": [
      "3: %26.97\n",
      "2: %39.89\n",
      "1: %33.15\n"
     ]
    }
   ],
   "source": [
    "def perc_col(df,col):\n",
    "    for i in sorted(df[col].unique(),reverse=True):\n",
    "        print('%s: %%%.2f' % (i, 100*df[col].value_counts()[i]/len(df)))\n",
    "        \n",
    "perc_col(df,'Customer_Segment')"
   ]
  },
  {
   "cell_type": "code",
   "execution_count": 242,
   "metadata": {
    "scrolled": true
   },
   "outputs": [
    {
     "name": "stdout",
     "output_type": "stream",
     "text": [
      "Unique Values of Each Features:\n",
      "\n",
      "Alcohol:\n",
      "[11.03, 11.41, 11.45, 11.46, 11.56, 11.61, 11.62, 11.64, 11.65, 11.66, 11.76, 11.79, 11.81, 11.82, 11.84, 11.87, 11.96, 12.0, 12.04, 12.07, 12.08, 12.16, 12.17, 12.2, 12.21, 12.22, 12.25, 12.29, 12.33, 12.34, 12.36, 12.37, 12.42, 12.43, 12.45, 12.47, 12.51, 12.52, 12.53, 12.58, 12.6, 12.64, 12.67, 12.69, 12.7, 12.72, 12.77, 12.79, 12.81, 12.82, 12.84, 12.85, 12.86, 12.87, 12.88, 12.93, 12.96, 12.99, 13.03, 13.05, 13.07, 13.08, 13.11, 13.16, 13.17, 13.2, 13.23, 13.24, 13.27, 13.28, 13.29, 13.3, 13.32, 13.34, 13.36, 13.39, 13.4, 13.41, 13.45, 13.48, 13.49, 13.5, 13.51, 13.52, 13.56, 13.58, 13.62, 13.63, 13.64, 13.67, 13.68, 13.69, 13.71, 13.72, 13.73, 13.74, 13.75, 13.76, 13.77, 13.78, 13.82, 13.83, 13.84, 13.86, 13.87, 13.88, 13.9, 13.94, 14.02, 14.06, 14.1, 14.12, 14.13, 14.16, 14.19, 14.2, 14.21, 14.22, 14.23, 14.3, 14.34, 14.37, 14.38, 14.39, 14.75, 14.83]\n",
      "\n",
      "Malic_Acid:\n",
      "[0.74, 0.89, 0.9, 0.92, 0.94, 0.98, 0.99, 1.01, 1.07, 1.09, 1.1, 1.13, 1.17, 1.19, 1.21, 1.24, 1.25, 1.29, 1.33, 1.34, 1.35, 1.36, 1.39, 1.41, 1.43, 1.45, 1.47, 1.48, 1.5, 1.51, 1.52, 1.53, 1.57, 1.59, 1.6, 1.61, 1.63, 1.64, 1.65, 1.66, 1.67, 1.68, 1.7, 1.71, 1.72, 1.73, 1.75, 1.76, 1.77, 1.78, 1.8, 1.81, 1.83, 1.86, 1.87, 1.88, 1.89, 1.9, 1.92, 1.95, 1.97, 1.99, 2.02, 2.05, 2.06, 2.08, 2.12, 2.13, 2.15, 2.16, 2.31, 2.36, 2.39, 2.4, 2.43, 2.45, 2.46, 2.51, 2.55, 2.56, 2.58, 2.59, 2.67, 2.68, 2.76, 2.81, 2.83, 2.89, 2.96, 2.99, 3.03, 3.1, 3.12, 3.17, 3.24, 3.26, 3.27, 3.3, 3.37, 3.43, 3.45, 3.55, 3.57, 3.59, 3.7, 3.74, 3.8, 3.83, 3.84, 3.86, 3.87, 3.88, 3.9, 3.91, 3.98, 3.99, 4.04, 4.1, 4.12, 4.28, 4.3, 4.31, 4.36, 4.43, 4.6, 4.61, 4.72, 4.95, 5.04, 5.19, 5.51, 5.65, 5.8]\n",
      "\n",
      "Ash:\n",
      "[1.36, 1.7, 1.71, 1.75, 1.82, 1.88, 1.9, 1.92, 1.94, 1.95, 1.98, 1.99, 2.0, 2.02, 2.04, 2.1, 2.12, 2.13, 2.14, 2.15, 2.16, 2.17, 2.19, 2.2, 2.21, 2.22, 2.23, 2.24, 2.25, 2.26, 2.27, 2.28, 2.29, 2.3, 2.31, 2.32, 2.35, 2.36, 2.37, 2.38, 2.39, 2.4, 2.41, 2.42, 2.43, 2.44, 2.45, 2.46, 2.48, 2.5, 2.51, 2.52, 2.53, 2.54, 2.55, 2.56, 2.58, 2.59, 2.6, 2.61, 2.62, 2.64, 2.65, 2.67, 2.68, 2.69, 2.7, 2.72, 2.73, 2.74, 2.75, 2.78, 2.8, 2.84, 2.86, 2.87, 2.92, 3.22, 3.23]\n",
      "\n",
      "Ash_Alcanity:\n",
      "[10.6, 11.2, 11.4, 12.0, 12.4, 13.2, 14.0, 14.6, 14.8, 15.0, 15.2, 15.5, 15.6, 16.0, 16.1, 16.2, 16.3, 16.4, 16.5, 16.6, 16.7, 16.8, 17.0, 17.1, 17.2, 17.4, 17.5, 17.6, 17.8, 18.0, 18.1, 18.5, 18.6, 18.8, 18.9, 19.0, 19.1, 19.4, 19.5, 19.6, 20.0, 20.4, 20.5, 20.7, 20.8, 21.0, 21.5, 21.6, 22.0, 22.5, 22.8, 23.0, 23.5, 23.6, 24.0, 24.5, 25.0, 25.5, 26.0, 26.5, 27.0, 28.5, 30.0]\n",
      "\n",
      "Magnesium:\n",
      "[70, 78, 80, 81, 82, 84, 85, 86, 87, 88, 89, 90, 91, 92, 93, 94, 95, 96, 97, 98, 99, 100, 101, 102, 103, 104, 105, 106, 107, 108, 110, 111, 112, 113, 115, 116, 117, 118, 119, 120, 121, 122, 123, 124, 126, 127, 128, 132, 134, 136, 139, 151, 162]\n",
      "\n",
      "Total_Phenols:\n",
      "[0.98, 1.1, 1.15, 1.25, 1.28, 1.3, 1.35, 1.38, 1.39, 1.4, 1.41, 1.45, 1.48, 1.5, 1.51, 1.54, 1.55, 1.59, 1.6, 1.61, 1.62, 1.63, 1.65, 1.68, 1.7, 1.72, 1.74, 1.75, 1.78, 1.79, 1.8, 1.83, 1.85, 1.88, 1.89, 1.9, 1.92, 1.93, 1.95, 1.98, 2.0, 2.02, 2.05, 2.1, 2.11, 2.13, 2.2, 2.22, 2.23, 2.3, 2.32, 2.35, 2.36, 2.4, 2.41, 2.42, 2.45, 2.46, 2.48, 2.5, 2.53, 2.55, 2.56, 2.6, 2.61, 2.62, 2.63, 2.64, 2.65, 2.7, 2.72, 2.74, 2.75, 2.8, 2.83, 2.85, 2.86, 2.88, 2.9, 2.95, 2.96, 2.98, 3.0, 3.02, 3.1, 3.15, 3.18, 3.2, 3.25, 3.27, 3.3, 3.38, 3.4, 3.5, 3.52, 3.85, 3.88]\n",
      "\n",
      "Flavanoids:\n",
      "[0.34, 0.47, 0.48, 0.49, 0.5, 0.51, 0.52, 0.55, 0.56, 0.57, 0.58, 0.6, 0.61, 0.63, 0.65, 0.66, 0.68, 0.69, 0.7, 0.75, 0.76, 0.78, 0.8, 0.83, 0.84, 0.92, 0.96, 0.99, 1.02, 1.09, 1.1, 1.2, 1.22, 1.25, 1.28, 1.3, 1.31, 1.32, 1.36, 1.39, 1.41, 1.46, 1.5, 1.57, 1.58, 1.59, 1.6, 1.61, 1.64, 1.69, 1.75, 1.76, 1.79, 1.84, 1.85, 1.92, 1.94, 2.0, 2.01, 2.03, 2.04, 2.09, 2.11, 2.13, 2.14, 2.17, 2.19, 2.21, 2.24, 2.25, 2.26, 2.27, 2.29, 2.33, 2.37, 2.41, 2.43, 2.45, 2.5, 2.51, 2.52, 2.53, 2.55, 2.58, 2.61, 2.63, 2.64, 2.65, 2.68, 2.69, 2.74, 2.76, 2.78, 2.79, 2.86, 2.88, 2.89, 2.9, 2.91, 2.92, 2.94, 2.97, 2.98, 2.99, 3.0, 3.03, 3.04, 3.06, 3.1, 3.14, 3.15, 3.17, 3.18, 3.19, 3.23, 3.24, 3.25, 3.27, 3.29, 3.32, 3.39, 3.4, 3.49, 3.54, 3.56, 3.64, 3.67, 3.69, 3.74, 3.75, 3.93, 5.08]\n",
      "\n",
      "Nonflavanoid_Phenols:\n",
      "[0.13, 0.14, 0.17, 0.19, 0.2, 0.21, 0.22, 0.24, 0.25, 0.26, 0.27, 0.28, 0.29, 0.3, 0.31, 0.32, 0.33, 0.34, 0.35, 0.37, 0.39, 0.4, 0.41, 0.42, 0.43, 0.44, 0.45, 0.47, 0.48, 0.5, 0.52, 0.53, 0.55, 0.56, 0.58, 0.6, 0.61, 0.63, 0.66]\n",
      "\n",
      "Proanthocyanins:\n",
      "[0.41, 0.42, 0.55, 0.62, 0.64, 0.68, 0.73, 0.75, 0.8, 0.81, 0.83, 0.84, 0.86, 0.88, 0.94, 0.95, 0.96, 0.97, 1.02, 1.03, 1.04, 1.05, 1.06, 1.1, 1.11, 1.14, 1.15, 1.22, 1.24, 1.25, 1.26, 1.28, 1.3, 1.31, 1.34, 1.35, 1.36, 1.37, 1.38, 1.4, 1.41, 1.42, 1.43, 1.44, 1.45, 1.46, 1.48, 1.53, 1.54, 1.55, 1.56, 1.57, 1.61, 1.62, 1.63, 1.64, 1.65, 1.66, 1.68, 1.69, 1.7, 1.71, 1.72, 1.76, 1.77, 1.81, 1.82, 1.83, 1.85, 1.86, 1.87, 1.9, 1.92, 1.95, 1.96, 1.97, 1.98, 1.99, 2.01, 2.03, 2.04, 2.08, 2.1, 2.14, 2.18, 2.19, 2.28, 2.29, 2.34, 2.35, 2.38, 2.45, 2.49, 2.5, 2.7, 2.76, 2.81, 2.91, 2.96, 3.28, 3.58]\n",
      "\n",
      "Color_Intensity:\n",
      "[1.28, 1.74, 1.9, 1.95, 2.0, 2.06, 2.08, 2.12, 2.15, 2.2, 2.3, 2.4, 2.45, 2.5, 2.57, 2.6, 2.62, 2.65, 2.7, 2.76, 2.8, 2.85, 2.9, 2.94, 2.95, 3.0, 3.05, 3.08, 3.17, 3.21, 3.25, 3.27, 3.3, 3.35, 3.38, 3.4, 3.52, 3.58, 3.6, 3.7, 3.74, 3.8, 3.84, 3.85, 3.9, 3.93, 3.94, 3.95, 4.0, 4.1, 4.2, 4.25, 4.28, 4.32, 4.35, 4.36, 4.38, 4.4, 4.45, 4.5, 4.6, 4.68, 4.7, 4.8, 4.9, 4.92, 5.0, 5.04, 5.05, 5.1, 5.2, 5.24, 5.25, 5.28, 5.3, 5.4, 5.43, 5.45, 5.5, 5.58, 5.6, 5.64, 5.65, 5.68, 5.7, 5.75, 5.85, 5.88, 6.0, 6.1, 6.13, 6.2, 6.25, 6.3, 6.38, 6.6, 6.62, 6.75, 6.8, 6.9, 7.05, 7.1, 7.2, 7.22, 7.3, 7.5, 7.6, 7.65, 7.7, 7.8, 7.9, 8.21, 8.42, 8.5, 8.6, 8.66, 8.7, 8.9, 9.01, 9.2, 9.3, 9.4, 9.58, 9.7, 9.899999000000001, 10.2, 10.26, 10.52, 10.68, 10.8, 11.75, 13.0]\n",
      "\n",
      "Hue:\n",
      "[0.48, 0.54, 0.55, 0.56, 0.57, 0.58, 0.59, 0.6, 0.61, 0.62, 0.64, 0.65, 0.66, 0.67, 0.68, 0.69, 0.7, 0.72, 0.73, 0.74, 0.75, 0.76, 0.77, 0.78, 0.79, 0.8, 0.81, 0.82, 0.84, 0.85, 0.86, 0.87, 0.88, 0.89, 0.9, 0.9059999999999999, 0.91, 0.92, 0.93, 0.94, 0.95, 0.96, 0.97, 0.98, 0.99, 1.0, 1.01, 1.02, 1.03, 1.04, 1.05, 1.06, 1.07, 1.08, 1.09, 1.1, 1.11, 1.12, 1.13, 1.15, 1.16, 1.17, 1.18, 1.19, 1.2, 1.22, 1.23, 1.24, 1.25, 1.27, 1.28, 1.31, 1.33, 1.36, 1.38, 1.42, 1.45, 1.71]\n",
      "\n",
      "OD280:\n",
      "[1.27, 1.29, 1.3, 1.33, 1.36, 1.42, 1.47, 1.48, 1.51, 1.55, 1.56, 1.58, 1.59, 1.6, 1.62, 1.63, 1.64, 1.67, 1.68, 1.69, 1.71, 1.73, 1.74, 1.75, 1.78, 1.8, 1.82, 1.83, 1.86, 1.92, 1.93, 1.96, 2.0, 2.01, 2.05, 2.06, 2.11, 2.12, 2.14, 2.15, 2.23, 2.26, 2.27, 2.3, 2.31, 2.42, 2.44, 2.46, 2.47, 2.48, 2.5, 2.51, 2.52, 2.57, 2.63, 2.65, 2.69, 2.71, 2.72, 2.73, 2.74, 2.75, 2.77, 2.78, 2.81, 2.82, 2.83, 2.84, 2.85, 2.87, 2.88, 2.9, 2.91, 2.93, 2.96, 3.0, 3.02, 3.03, 3.05, 3.07, 3.08, 3.1, 3.12, 3.13, 3.14, 3.16, 3.17, 3.18, 3.19, 3.2, 3.21, 3.22, 3.26, 3.28, 3.3, 3.31, 3.33, 3.35, 3.36, 3.37, 3.38, 3.39, 3.4, 3.44, 3.45, 3.47, 3.48, 3.5, 3.52, 3.53, 3.55, 3.56, 3.57, 3.58, 3.59, 3.63, 3.64, 3.69, 3.71, 3.82, 3.92, 4.0]\n",
      "\n",
      "Proline:\n",
      "[278, 290, 312, 315, 325, 342, 345, 352, 355, 365, 372, 378, 380, 385, 392, 406, 407, 410, 415, 420, 425, 428, 434, 438, 450, 463, 465, 466, 470, 472, 480, 488, 495, 500, 502, 510, 515, 520, 530, 550, 560, 562, 564, 570, 580, 590, 600, 607, 615, 620, 625, 630, 640, 650, 660, 672, 675, 678, 680, 685, 695, 710, 714, 718, 720, 725, 735, 740, 750, 760, 770, 780, 795, 830, 835, 840, 845, 855, 870, 880, 885, 886, 915, 920, 937, 970, 985, 990, 1015, 1020, 1035, 1045, 1050, 1060, 1065, 1080, 1095, 1105, 1120, 1130, 1150, 1185, 1190, 1195, 1235, 1260, 1265, 1270, 1280, 1285, 1290, 1295, 1310, 1320, 1375, 1450, 1480, 1510, 1515, 1547, 1680]\n",
      "\n",
      "Customer_Segment:\n",
      "[1, 2, 3]\n",
      "\n"
     ]
    }
   ],
   "source": [
    "print('Unique Values of Each Features:\\n')\n",
    "for i in df:\n",
    "    print(f'{i}:\\n{sorted(df[i].unique())}\\n')"
   ]
  },
  {
   "cell_type": "code",
   "execution_count": 243,
   "metadata": {},
   "outputs": [
    {
     "data": {
      "image/png": "[encoded data removed]",
      "text/plain": [
       "<Figure size 720x576 with 2 Axes>"
      ]
     },
     "metadata": {
      "needs_background": "light"
     },
     "output_type": "display_data"
    }
   ],
   "source": [
    "plt.figure(figsize=(10,8))\n",
    "sns.heatmap(df.corr(), cmap='coolwarm',annot=True);"
   ]
  },
  {
   "cell_type": "code",
   "execution_count": 244,
   "metadata": {},
   "outputs": [
    {
     "data": {
      "image/png": "[encoded data removed]",
      "text/plain": [
       "<Figure size 432x288 with 1 Axes>"
      ]
     },
     "metadata": {
      "needs_background": "light"
     },
     "output_type": "display_data"
    }
   ],
   "source": [
    "df.corr()[\"Customer_Segment\"].sort_values().plot.barh();"
   ]
  },
  {
   "cell_type": "code",
   "execution_count": 245,
   "metadata": {},
   "outputs": [],
   "source": [
    "X=df.drop('Customer_Segment',axis=1)\n",
    "y=df.Customer_Segment"
   ]
  },
  {
   "cell_type": "code",
   "execution_count": 246,
   "metadata": {},
   "outputs": [],
   "source": [
    "from sklearn.model_selection import train_test_split\n",
    "X_train, X_test, y_train, y_test = train_test_split(X, y, test_size = 0.2, stratify=y, random_state = 0)"
   ]
  },
  {
   "cell_type": "markdown",
   "metadata": {},
   "source": [
    "**Log reg without scaling**"
   ]
  },
  {
   "cell_type": "code",
   "execution_count": 247,
   "metadata": {},
   "outputs": [
    {
     "name": "stderr",
     "output_type": "stream",
     "text": [
      "C:\\Users\\fatih\\Anaconda3\\lib\\site-packages\\sklearn\\linear_model\\_logistic.py:762: ConvergenceWarning: lbfgs failed to converge (status=1):\n",
      "STOP: TOTAL NO. of ITERATIONS REACHED LIMIT.\n",
      "\n",
      "Increase the number of iterations (max_iter) or scale the data as shown in:\n",
      "    https://scikit-learn.org/stable/modules/preprocessing.html\n",
      "Please also refer to the documentation for alternative solver options:\n",
      "    https://scikit-learn.org/stable/modules/linear_model.html#logistic-regression\n",
      "  n_iter_i = _check_optimize_result(\n"
     ]
    },
    {
     "data": {
      "text/plain": [
       "LogisticRegression(random_state=0)"
      ]
     },
     "execution_count": 247,
     "metadata": {},
     "output_type": "execute_result"
    }
   ],
   "source": [
    "from sklearn.linear_model import LogisticRegression\n",
    "classifier = LogisticRegression(random_state = 0)\n",
    "classifier.fit(X_train, y_train)"
   ]
  },
  {
   "cell_type": "code",
   "execution_count": 248,
   "metadata": {},
   "outputs": [],
   "source": [
    "y_pred=classifier.predict(X_test)"
   ]
  },
  {
   "cell_type": "code",
   "execution_count": 249,
   "metadata": {},
   "outputs": [
    {
     "name": "stdout",
     "output_type": "stream",
     "text": [
      "              precision    recall  f1-score   support\n",
      "\n",
      "           1       0.92      1.00      0.96        12\n",
      "           2       1.00      0.93      0.96        14\n",
      "           3       1.00      1.00      1.00        10\n",
      "\n",
      "    accuracy                           0.97        36\n",
      "   macro avg       0.97      0.98      0.97        36\n",
      "weighted avg       0.97      0.97      0.97        36\n",
      "\n"
     ]
    }
   ],
   "source": [
    "from sklearn.metrics import classification_report,confusion_matrix\n",
    "print(classification_report(y_test,y_pred))"
   ]
  },
  {
   "cell_type": "code",
   "execution_count": 250,
   "metadata": {},
   "outputs": [
    {
     "data": {
      "text/plain": [
       "array([[12,  0,  0],\n",
       "       [ 1, 13,  0],\n",
       "       [ 0,  0, 10]], dtype=int64)"
      ]
     },
     "execution_count": 250,
     "metadata": {},
     "output_type": "execute_result"
    }
   ],
   "source": [
    "confusion_matrix(y_test, y_pred)"
   ]
  },
  {
   "cell_type": "markdown",
   "metadata": {},
   "source": [
    "**Log Reg After Scaling**"
   ]
  },
  {
   "cell_type": "code",
   "execution_count": 251,
   "metadata": {},
   "outputs": [],
   "source": [
    "from sklearn.preprocessing import StandardScaler\n",
    "sc = StandardScaler()\n",
    "X_train = sc.fit_transform(X_train)\n",
    "X_test = sc.transform(X_test)"
   ]
  },
  {
   "cell_type": "code",
   "execution_count": 252,
   "metadata": {},
   "outputs": [],
   "source": [
    "from sklearn.linear_model import LogisticRegression\n",
    "classifier = LogisticRegression(random_state = 0)\n",
    "classifier.fit(X_train, y_train)\n",
    "\n",
    "y_pred=classifier.predict(X_test)"
   ]
  },
  {
   "cell_type": "code",
   "execution_count": 253,
   "metadata": {},
   "outputs": [
    {
     "name": "stdout",
     "output_type": "stream",
     "text": [
      "              precision    recall  f1-score   support\n",
      "\n",
      "           1       1.00      1.00      1.00        12\n",
      "           2       1.00      1.00      1.00        14\n",
      "           3       1.00      1.00      1.00        10\n",
      "\n",
      "    accuracy                           1.00        36\n",
      "   macro avg       1.00      1.00      1.00        36\n",
      "weighted avg       1.00      1.00      1.00        36\n",
      "\n"
     ]
    }
   ],
   "source": [
    "from sklearn.metrics import classification_report,confusion_matrix\n",
    "print(classification_report(y_test,y_pred))"
   ]
  },
  {
   "cell_type": "code",
   "execution_count": 254,
   "metadata": {},
   "outputs": [
    {
     "data": {
      "text/plain": [
       "array([[12,  0,  0],\n",
       "       [ 0, 14,  0],\n",
       "       [ 0,  0, 10]], dtype=int64)"
      ]
     },
     "execution_count": 254,
     "metadata": {},
     "output_type": "execute_result"
    }
   ],
   "source": [
    "confusion_matrix(y_test, y_pred)"
   ]
  },
  {
   "cell_type": "code",
   "execution_count": 255,
   "metadata": {},
   "outputs": [
    {
     "data": {
      "text/html": [
       "<div>\n",
       "<style scoped>\n",
       "    .dataframe tbody tr th:only-of-type {\n",
       "        vertical-align: middle;\n",
       "    }\n",
       "\n",
       "    .dataframe tbody tr th {\n",
       "        vertical-align: top;\n",
       "    }\n",
       "\n",
       "    .dataframe thead th {\n",
       "        text-align: right;\n",
       "    }\n",
       "</style>\n",
       "<table border=\"1\" class=\"dataframe\">\n",
       "  <thead>\n",
       "    <tr style=\"text-align: right;\">\n",
       "      <th></th>\n",
       "      <th>0</th>\n",
       "      <th>1</th>\n",
       "      <th>2</th>\n",
       "      <th>3</th>\n",
       "      <th>4</th>\n",
       "      <th>5</th>\n",
       "      <th>6</th>\n",
       "      <th>7</th>\n",
       "      <th>8</th>\n",
       "      <th>9</th>\n",
       "      <th>10</th>\n",
       "      <th>11</th>\n",
       "      <th>12</th>\n",
       "    </tr>\n",
       "  </thead>\n",
       "  <tbody>\n",
       "    <tr>\n",
       "      <th>0</th>\n",
       "      <td>-1.450836</td>\n",
       "      <td>-1.279856</td>\n",
       "      <td>0.743060</td>\n",
       "      <td>-0.491365</td>\n",
       "      <td>-0.370780</td>\n",
       "      <td>-0.155583</td>\n",
       "      <td>0.179657</td>\n",
       "      <td>-1.208221</td>\n",
       "      <td>1.291510</td>\n",
       "      <td>-0.844864</td>\n",
       "      <td>-0.749108</td>\n",
       "      <td>0.666749</td>\n",
       "      <td>-0.712474</td>\n",
       "    </tr>\n",
       "    <tr>\n",
       "      <th>1</th>\n",
       "      <td>1.347464</td>\n",
       "      <td>-0.757565</td>\n",
       "      <td>-0.211823</td>\n",
       "      <td>-0.842576</td>\n",
       "      <td>-0.296833</td>\n",
       "      <td>-0.155583</td>\n",
       "      <td>0.398383</td>\n",
       "      <td>-0.876208</td>\n",
       "      <td>-0.049017</td>\n",
       "      <td>-0.006570</td>\n",
       "      <td>0.996524</td>\n",
       "      <td>0.295069</td>\n",
       "      <td>1.632453</td>\n",
       "    </tr>\n",
       "    <tr>\n",
       "      <th>2</th>\n",
       "      <td>0.684709</td>\n",
       "      <td>0.216198</td>\n",
       "      <td>1.147049</td>\n",
       "      <td>1.411026</td>\n",
       "      <td>0.442645</td>\n",
       "      <td>-1.213825</td>\n",
       "      <td>-1.182406</td>\n",
       "      <td>0.202831</td>\n",
       "      <td>-0.100576</td>\n",
       "      <td>1.566845</td>\n",
       "      <td>-0.978796</td>\n",
       "      <td>-1.163061</td>\n",
       "      <td>-0.002825</td>\n",
       "    </tr>\n",
       "    <tr>\n",
       "      <th>3</th>\n",
       "      <td>0.574249</td>\n",
       "      <td>1.110289</td>\n",
       "      <td>-0.689264</td>\n",
       "      <td>-0.052352</td>\n",
       "      <td>-0.814467</td>\n",
       "      <td>-1.099861</td>\n",
       "      <td>-1.540320</td>\n",
       "      <td>1.779890</td>\n",
       "      <td>-1.234868</td>\n",
       "      <td>0.294357</td>\n",
       "      <td>-0.657232</td>\n",
       "      <td>-1.134470</td>\n",
       "      <td>-0.527348</td>\n",
       "    </tr>\n",
       "    <tr>\n",
       "      <th>4</th>\n",
       "      <td>-1.058092</td>\n",
       "      <td>-0.642484</td>\n",
       "      <td>-0.248549</td>\n",
       "      <td>0.913477</td>\n",
       "      <td>-0.666572</td>\n",
       "      <td>-0.839370</td>\n",
       "      <td>-0.337330</td>\n",
       "      <td>0.534844</td>\n",
       "      <td>-0.066203</td>\n",
       "      <td>-1.102801</td>\n",
       "      <td>1.731527</td>\n",
       "      <td>-0.505473</td>\n",
       "      <td>-0.789609</td>\n",
       "    </tr>\n",
       "    <tr>\n",
       "      <th>...</th>\n",
       "      <td>...</td>\n",
       "      <td>...</td>\n",
       "      <td>...</td>\n",
       "      <td>...</td>\n",
       "      <td>...</td>\n",
       "      <td>...</td>\n",
       "      <td>...</td>\n",
       "      <td>...</td>\n",
       "      <td>...</td>\n",
       "      <td>...</td>\n",
       "      <td>...</td>\n",
       "      <td>...</td>\n",
       "      <td>...</td>\n",
       "    </tr>\n",
       "    <tr>\n",
       "      <th>137</th>\n",
       "      <td>1.322917</td>\n",
       "      <td>-0.279536</td>\n",
       "      <td>0.081988</td>\n",
       "      <td>-0.257225</td>\n",
       "      <td>0.294750</td>\n",
       "      <td>0.739852</td>\n",
       "      <td>0.885544</td>\n",
       "      <td>-0.378190</td>\n",
       "      <td>1.343069</td>\n",
       "      <td>0.509304</td>\n",
       "      <td>0.537147</td>\n",
       "      <td>0.195001</td>\n",
       "      <td>0.953659</td>\n",
       "    </tr>\n",
       "    <tr>\n",
       "      <th>138</th>\n",
       "      <td>-1.168551</td>\n",
       "      <td>-0.155603</td>\n",
       "      <td>-0.762717</td>\n",
       "      <td>0.386661</td>\n",
       "      <td>-1.036310</td>\n",
       "      <td>0.495642</td>\n",
       "      <td>0.617108</td>\n",
       "      <td>0.036825</td>\n",
       "      <td>-0.427114</td>\n",
       "      <td>-0.969533</td>\n",
       "      <td>-0.427544</td>\n",
       "      <td>0.952657</td>\n",
       "      <td>-1.150605</td>\n",
       "    </tr>\n",
       "    <tr>\n",
       "      <th>139</th>\n",
       "      <td>-0.603982</td>\n",
       "      <td>2.809947</td>\n",
       "      <td>0.963418</td>\n",
       "      <td>1.557364</td>\n",
       "      <td>-0.222885</td>\n",
       "      <td>-0.823090</td>\n",
       "      <td>-1.421015</td>\n",
       "      <td>2.194905</td>\n",
       "      <td>-0.856771</td>\n",
       "      <td>-0.006570</td>\n",
       "      <td>-0.611295</td>\n",
       "      <td>-1.320310</td>\n",
       "      <td>-0.727901</td>\n",
       "    </tr>\n",
       "    <tr>\n",
       "      <th>140</th>\n",
       "      <td>1.617475</td>\n",
       "      <td>-0.580517</td>\n",
       "      <td>1.183775</td>\n",
       "      <td>1.557364</td>\n",
       "      <td>-0.074989</td>\n",
       "      <td>0.821255</td>\n",
       "      <td>-0.715129</td>\n",
       "      <td>1.364874</td>\n",
       "      <td>1.893028</td>\n",
       "      <td>3.432587</td>\n",
       "      <td>-1.759736</td>\n",
       "      <td>-0.934334</td>\n",
       "      <td>-0.280513</td>\n",
       "    </tr>\n",
       "    <tr>\n",
       "      <th>141</th>\n",
       "      <td>-0.947633</td>\n",
       "      <td>-0.536255</td>\n",
       "      <td>-0.946348</td>\n",
       "      <td>-0.198690</td>\n",
       "      <td>-1.406049</td>\n",
       "      <td>-1.051019</td>\n",
       "      <td>0.000700</td>\n",
       "      <td>0.036825</td>\n",
       "      <td>0.054100</td>\n",
       "      <td>-0.694401</td>\n",
       "      <td>0.215584</td>\n",
       "      <td>0.795407</td>\n",
       "      <td>-0.743328</td>\n",
       "    </tr>\n",
       "  </tbody>\n",
       "</table>\n",
       "<p>142 rows × 13 columns</p>\n",
       "</div>"
      ],
      "text/plain": [
       "           0         1         2         3         4         5         6   \\\n",
       "0   -1.450836 -1.279856  0.743060 -0.491365 -0.370780 -0.155583  0.179657   \n",
       "1    1.347464 -0.757565 -0.211823 -0.842576 -0.296833 -0.155583  0.398383   \n",
       "2    0.684709  0.216198  1.147049  1.411026  0.442645 -1.213825 -1.182406   \n",
       "3    0.574249  1.110289 -0.689264 -0.052352 -0.814467 -1.099861 -1.540320   \n",
       "4   -1.058092 -0.642484 -0.248549  0.913477 -0.666572 -0.839370 -0.337330   \n",
       "..        ...       ...       ...       ...       ...       ...       ...   \n",
       "137  1.322917 -0.279536  0.081988 -0.257225  0.294750  0.739852  0.885544   \n",
       "138 -1.168551 -0.155603 -0.762717  0.386661 -1.036310  0.495642  0.617108   \n",
       "139 -0.603982  2.809947  0.963418  1.557364 -0.222885 -0.823090 -1.421015   \n",
       "140  1.617475 -0.580517  1.183775  1.557364 -0.074989  0.821255 -0.715129   \n",
       "141 -0.947633 -0.536255 -0.946348 -0.198690 -1.406049 -1.051019  0.000700   \n",
       "\n",
       "           7         8         9         10        11        12  \n",
       "0   -1.208221  1.291510 -0.844864 -0.749108  0.666749 -0.712474  \n",
       "1   -0.876208 -0.049017 -0.006570  0.996524  0.295069  1.632453  \n",
       "2    0.202831 -0.100576  1.566845 -0.978796 -1.163061 -0.002825  \n",
       "3    1.779890 -1.234868  0.294357 -0.657232 -1.134470 -0.527348  \n",
       "4    0.534844 -0.066203 -1.102801  1.731527 -0.505473 -0.789609  \n",
       "..        ...       ...       ...       ...       ...       ...  \n",
       "137 -0.378190  1.343069  0.509304  0.537147  0.195001  0.953659  \n",
       "138  0.036825 -0.427114 -0.969533 -0.427544  0.952657 -1.150605  \n",
       "139  2.194905 -0.856771 -0.006570 -0.611295 -1.320310 -0.727901  \n",
       "140  1.364874  1.893028  3.432587 -1.759736 -0.934334 -0.280513  \n",
       "141  0.036825  0.054100 -0.694401  0.215584  0.795407 -0.743328  \n",
       "\n",
       "[142 rows x 13 columns]"
      ]
     },
     "execution_count": 255,
     "metadata": {},
     "output_type": "execute_result"
    }
   ],
   "source": [
    "pd.DataFrame(X_train)"
   ]
  },
  {
   "cell_type": "markdown",
   "metadata": {},
   "source": [
    "**Implementation of PCA**"
   ]
  },
  {
   "cell_type": "markdown",
   "metadata": {},
   "source": [
    "> PCA in ilk adimi her zaman Scalingdir"
   ]
  },
  {
   "cell_type": "markdown",
   "metadata": {},
   "source": [
    "**Optimal Component Number with PCA**"
   ]
  },
  {
   "cell_type": "code",
   "execution_count": 256,
   "metadata": {},
   "outputs": [
    {
     "data": {
      "image/png": "[encoded data removed]",
      "text/plain": [
       "<Figure size 432x432 with 1 Axes>"
      ]
     },
     "metadata": {
      "needs_background": "light"
     },
     "output_type": "display_data"
    }
   ],
   "source": [
    "plt.figure(figsize=(6,6))\n",
    "pca = PCA().fit(X_train)\n",
    "x = range(1,14)\n",
    "plt.plot(x,np.cumsum(pca.explained_variance_ratio_), \"bo-\")\n",
    "plt.xlabel(\"Component Count\")\n",
    "plt.ylabel(\"Variance Ratio\")\n",
    "plt.grid()\n",
    "plt.show()"
   ]
  },
  {
   "cell_type": "code",
   "execution_count": 257,
   "metadata": {},
   "outputs": [],
   "source": [
    "from sklearn.decomposition import PCA"
   ]
  },
  {
   "cell_type": "code",
   "execution_count": 258,
   "metadata": {},
   "outputs": [],
   "source": [
    "pca = PCA(n_components = 2)\n",
    "\n",
    "X_train = pca.fit_transform(X_train)\n",
    "X_test = pca.transform(X_test)"
   ]
  },
  {
   "cell_type": "code",
   "execution_count": 259,
   "metadata": {},
   "outputs": [
    {
     "data": {
      "text/html": [
       "<div>\n",
       "<style scoped>\n",
       "    .dataframe tbody tr th:only-of-type {\n",
       "        vertical-align: middle;\n",
       "    }\n",
       "\n",
       "    .dataframe tbody tr th {\n",
       "        vertical-align: top;\n",
       "    }\n",
       "\n",
       "    .dataframe thead th {\n",
       "        text-align: right;\n",
       "    }\n",
       "</style>\n",
       "<table border=\"1\" class=\"dataframe\">\n",
       "  <thead>\n",
       "    <tr style=\"text-align: right;\">\n",
       "      <th></th>\n",
       "      <th>0</th>\n",
       "      <th>1</th>\n",
       "    </tr>\n",
       "  </thead>\n",
       "  <tbody>\n",
       "    <tr>\n",
       "      <th>0</th>\n",
       "      <td>-0.783937</td>\n",
       "      <td>-1.590432</td>\n",
       "    </tr>\n",
       "    <tr>\n",
       "      <th>1</th>\n",
       "      <td>-1.792083</td>\n",
       "      <td>0.583400</td>\n",
       "    </tr>\n",
       "    <tr>\n",
       "      <th>2</th>\n",
       "      <td>2.101051</td>\n",
       "      <td>2.109598</td>\n",
       "    </tr>\n",
       "    <tr>\n",
       "      <th>3</th>\n",
       "      <td>3.107242</td>\n",
       "      <td>0.448619</td>\n",
       "    </tr>\n",
       "    <tr>\n",
       "      <th>4</th>\n",
       "      <td>0.725718</td>\n",
       "      <td>-2.107998</td>\n",
       "    </tr>\n",
       "    <tr>\n",
       "      <th>...</th>\n",
       "      <td>...</td>\n",
       "      <td>...</td>\n",
       "    </tr>\n",
       "    <tr>\n",
       "      <th>137</th>\n",
       "      <td>-2.045510</td>\n",
       "      <td>1.227113</td>\n",
       "    </tr>\n",
       "    <tr>\n",
       "      <th>138</th>\n",
       "      <td>0.121802</td>\n",
       "      <td>-2.205476</td>\n",
       "    </tr>\n",
       "    <tr>\n",
       "      <th>139</th>\n",
       "      <td>3.858038</td>\n",
       "      <td>0.730102</td>\n",
       "    </tr>\n",
       "    <tr>\n",
       "      <th>140</th>\n",
       "      <td>0.995597</td>\n",
       "      <td>3.578715</td>\n",
       "    </tr>\n",
       "    <tr>\n",
       "      <th>141</th>\n",
       "      <td>0.400726</td>\n",
       "      <td>-2.206472</td>\n",
       "    </tr>\n",
       "  </tbody>\n",
       "</table>\n",
       "<p>142 rows × 2 columns</p>\n",
       "</div>"
      ],
      "text/plain": [
       "            0         1\n",
       "0   -0.783937 -1.590432\n",
       "1   -1.792083  0.583400\n",
       "2    2.101051  2.109598\n",
       "3    3.107242  0.448619\n",
       "4    0.725718 -2.107998\n",
       "..        ...       ...\n",
       "137 -2.045510  1.227113\n",
       "138  0.121802 -2.205476\n",
       "139  3.858038  0.730102\n",
       "140  0.995597  3.578715\n",
       "141  0.400726 -2.206472\n",
       "\n",
       "[142 rows x 2 columns]"
      ]
     },
     "execution_count": 259,
     "metadata": {},
     "output_type": "execute_result"
    }
   ],
   "source": [
    "pd.DataFrame(X_train)"
   ]
  },
  {
   "cell_type": "code",
   "execution_count": 260,
   "metadata": {},
   "outputs": [
    {
     "data": {
      "text/html": [
       "<div>\n",
       "<style scoped>\n",
       "    .dataframe tbody tr th:only-of-type {\n",
       "        vertical-align: middle;\n",
       "    }\n",
       "\n",
       "    .dataframe tbody tr th {\n",
       "        vertical-align: top;\n",
       "    }\n",
       "\n",
       "    .dataframe thead th {\n",
       "        text-align: right;\n",
       "    }\n",
       "</style>\n",
       "<table border=\"1\" class=\"dataframe\">\n",
       "  <thead>\n",
       "    <tr style=\"text-align: right;\">\n",
       "      <th></th>\n",
       "      <th>first_component</th>\n",
       "      <th>second_component</th>\n",
       "    </tr>\n",
       "  </thead>\n",
       "  <tbody>\n",
       "    <tr>\n",
       "      <th>0</th>\n",
       "      <td>-0.783937</td>\n",
       "      <td>-1.590432</td>\n",
       "    </tr>\n",
       "    <tr>\n",
       "      <th>1</th>\n",
       "      <td>-1.792083</td>\n",
       "      <td>0.583400</td>\n",
       "    </tr>\n",
       "    <tr>\n",
       "      <th>2</th>\n",
       "      <td>2.101051</td>\n",
       "      <td>2.109598</td>\n",
       "    </tr>\n",
       "    <tr>\n",
       "      <th>3</th>\n",
       "      <td>3.107242</td>\n",
       "      <td>0.448619</td>\n",
       "    </tr>\n",
       "    <tr>\n",
       "      <th>4</th>\n",
       "      <td>0.725718</td>\n",
       "      <td>-2.107998</td>\n",
       "    </tr>\n",
       "    <tr>\n",
       "      <th>...</th>\n",
       "      <td>...</td>\n",
       "      <td>...</td>\n",
       "    </tr>\n",
       "    <tr>\n",
       "      <th>137</th>\n",
       "      <td>-2.045510</td>\n",
       "      <td>1.227113</td>\n",
       "    </tr>\n",
       "    <tr>\n",
       "      <th>138</th>\n",
       "      <td>0.121802</td>\n",
       "      <td>-2.205476</td>\n",
       "    </tr>\n",
       "    <tr>\n",
       "      <th>139</th>\n",
       "      <td>3.858038</td>\n",
       "      <td>0.730102</td>\n",
       "    </tr>\n",
       "    <tr>\n",
       "      <th>140</th>\n",
       "      <td>0.995597</td>\n",
       "      <td>3.578715</td>\n",
       "    </tr>\n",
       "    <tr>\n",
       "      <th>141</th>\n",
       "      <td>0.400726</td>\n",
       "      <td>-2.206472</td>\n",
       "    </tr>\n",
       "  </tbody>\n",
       "</table>\n",
       "<p>142 rows × 2 columns</p>\n",
       "</div>"
      ],
      "text/plain": [
       "     first_component  second_component\n",
       "0          -0.783937         -1.590432\n",
       "1          -1.792083          0.583400\n",
       "2           2.101051          2.109598\n",
       "3           3.107242          0.448619\n",
       "4           0.725718         -2.107998\n",
       "..               ...               ...\n",
       "137        -2.045510          1.227113\n",
       "138         0.121802         -2.205476\n",
       "139         3.858038          0.730102\n",
       "140         0.995597          3.578715\n",
       "141         0.400726         -2.206472\n",
       "\n",
       "[142 rows x 2 columns]"
      ]
     },
     "execution_count": 260,
     "metadata": {},
     "output_type": "execute_result"
    }
   ],
   "source": [
    "component_X_train = pd.DataFrame(data = X_train, columns=[\"first_component\",\"second_component\"])\n",
    "component_X_train"
   ]
  },
  {
   "cell_type": "code",
   "execution_count": 261,
   "metadata": {},
   "outputs": [
    {
     "data": {
      "image/png": "[encoded data removed]",
      "text/plain": [
       "<Figure size 360x360 with 6 Axes>"
      ]
     },
     "metadata": {
      "needs_background": "light"
     },
     "output_type": "display_data"
    }
   ],
   "source": [
    "sns.pairplot(component_X_train);"
   ]
  },
  {
   "cell_type": "code",
   "execution_count": 262,
   "metadata": {},
   "outputs": [
    {
     "data": {
      "text/html": [
       "<div>\n",
       "<style scoped>\n",
       "    .dataframe tbody tr th:only-of-type {\n",
       "        vertical-align: middle;\n",
       "    }\n",
       "\n",
       "    .dataframe tbody tr th {\n",
       "        vertical-align: top;\n",
       "    }\n",
       "\n",
       "    .dataframe thead th {\n",
       "        text-align: right;\n",
       "    }\n",
       "</style>\n",
       "<table border=\"1\" class=\"dataframe\">\n",
       "  <thead>\n",
       "    <tr style=\"text-align: right;\">\n",
       "      <th></th>\n",
       "      <th>first_component</th>\n",
       "      <th>second_component</th>\n",
       "    </tr>\n",
       "  </thead>\n",
       "  <tbody>\n",
       "    <tr>\n",
       "      <th>first_component</th>\n",
       "      <td>1.000000e+00</td>\n",
       "      <td>2.040282e-16</td>\n",
       "    </tr>\n",
       "    <tr>\n",
       "      <th>second_component</th>\n",
       "      <td>2.040282e-16</td>\n",
       "      <td>1.000000e+00</td>\n",
       "    </tr>\n",
       "  </tbody>\n",
       "</table>\n",
       "</div>"
      ],
      "text/plain": [
       "                  first_component  second_component\n",
       "first_component      1.000000e+00      2.040282e-16\n",
       "second_component     2.040282e-16      1.000000e+00"
      ]
     },
     "execution_count": 262,
     "metadata": {},
     "output_type": "execute_result"
    }
   ],
   "source": [
    "component_X_train.corr()"
   ]
  },
  {
   "cell_type": "markdown",
   "metadata": {},
   "source": [
    "> component lar arasinda korelasyon yok"
   ]
  },
  {
   "cell_type": "code",
   "execution_count": 263,
   "metadata": {},
   "outputs": [
    {
     "data": {
      "text/plain": [
       "array([0.35950519, 0.18547258])"
      ]
     },
     "execution_count": 263,
     "metadata": {},
     "output_type": "execute_result"
    }
   ],
   "source": [
    "pca.explained_variance_ratio_"
   ]
  },
  {
   "cell_type": "markdown",
   "metadata": {},
   "source": [
    "**Log Reg after PCA**"
   ]
  },
  {
   "cell_type": "code",
   "execution_count": 264,
   "metadata": {},
   "outputs": [],
   "source": [
    "from sklearn.linear_model import LogisticRegression\n",
    "classifier = LogisticRegression(random_state = 0)\n",
    "classifier.fit(X_train, y_train)\n",
    "\n",
    "y_pred=classifier.predict(X_test)"
   ]
  },
  {
   "cell_type": "code",
   "execution_count": 265,
   "metadata": {},
   "outputs": [
    {
     "name": "stdout",
     "output_type": "stream",
     "text": [
      "              precision    recall  f1-score   support\n",
      "\n",
      "           1       0.92      0.92      0.92        12\n",
      "           2       0.93      0.93      0.93        14\n",
      "           3       1.00      1.00      1.00        10\n",
      "\n",
      "    accuracy                           0.94        36\n",
      "   macro avg       0.95      0.95      0.95        36\n",
      "weighted avg       0.94      0.94      0.94        36\n",
      "\n"
     ]
    }
   ],
   "source": [
    "from sklearn.metrics import classification_report,confusion_matrix\n",
    "print(classification_report(y_test,y_pred))"
   ]
  },
  {
   "cell_type": "code",
   "execution_count": 266,
   "metadata": {},
   "outputs": [
    {
     "data": {
      "text/plain": [
       "array([[11,  1,  0],\n",
       "       [ 1, 13,  0],\n",
       "       [ 0,  0, 10]], dtype=int64)"
      ]
     },
     "execution_count": 266,
     "metadata": {},
     "output_type": "execute_result"
    }
   ],
   "source": [
    "confusion_matrix(y_test, y_pred)"
   ]
  },
  {
   "cell_type": "code",
   "execution_count": 267,
   "metadata": {},
   "outputs": [
    {
     "data": {
      "text/plain": [
       "array([0.35950519, 0.18547258])"
      ]
     },
     "execution_count": 267,
     "metadata": {},
     "output_type": "execute_result"
    }
   ],
   "source": [
    "pca.explained_variance_ratio_"
   ]
  },
  {
   "cell_type": "code",
   "execution_count": 268,
   "metadata": {},
   "outputs": [
    {
     "data": {
      "image/png": "[encoded data removed]",
      "text/plain": [
       "<Figure size 864x432 with 1 Axes>"
      ]
     },
     "metadata": {
      "needs_background": "light"
     },
     "output_type": "display_data"
    }
   ],
   "source": [
    "fig, ax = plt.subplots(figsize=(12,6))\n",
    "ax.bar(range(1,X_train.shape[1]+1), pca.explained_variance_ratio_)\n",
    "\n",
    "for index,data in enumerate(pca.explained_variance_ratio_):\n",
    "    ax.text(x=index+0.7 , y =round(data,2)+0.01 , s=f\"{round(data,2)}\")\n",
    "plt.tight_layout()\n",
    "plt.xlabel(\"Component Count\")\n",
    "plt.ylabel(\"Explained Variance Ratio\")\n",
    "plt.xticks(range(1,df.shape[1]+1))\n",
    "plt.grid()\n",
    "plt.show()"
   ]
  },
  {
   "cell_type": "code",
   "execution_count": 269,
   "metadata": {},
   "outputs": [],
   "source": [
    "pca = PCA(n_components = 4)\n",
    "pca_fit = pca.fit_transform(df)"
   ]
  },
  {
   "cell_type": "code",
   "execution_count": 270,
   "metadata": {},
   "outputs": [
    {
     "data": {
      "text/plain": [
       "array([9.98087625e-01, 1.73591851e-03, 9.58948998e-05, 5.13200714e-05])"
      ]
     },
     "execution_count": 270,
     "metadata": {},
     "output_type": "execute_result"
    }
   ],
   "source": [
    "pca.explained_variance_ratio_"
   ]
  },
  {
   "cell_type": "code",
   "execution_count": 271,
   "metadata": {
    "scrolled": true
   },
   "outputs": [
    {
     "name": "stderr",
     "output_type": "stream",
     "text": [
      "*c* argument looks like a single numeric RGB or RGBA sequence, which should be avoided as value-mapping will have precedence in case its length matches with *x* & *y*.  Please use the *color* keyword-argument or provide a 2-D array with a single row if you intend to specify the same RGB or RGBA value for all points.\n",
      "*c* argument looks like a single numeric RGB or RGBA sequence, which should be avoided as value-mapping will have precedence in case its length matches with *x* & *y*.  Please use the *color* keyword-argument or provide a 2-D array with a single row if you intend to specify the same RGB or RGBA value for all points.\n",
      "*c* argument looks like a single numeric RGB or RGBA sequence, which should be avoided as value-mapping will have precedence in case its length matches with *x* & *y*.  Please use the *color* keyword-argument or provide a 2-D array with a single row if you intend to specify the same RGB or RGBA value for all points.\n"
     ]
    },
    {
     "data": {
      "image/png": "[encoded data removed]",
      "text/plain": [
       "<Figure size 432x288 with 1 Axes>"
      ]
     },
     "metadata": {
      "needs_background": "light"
     },
     "output_type": "display_data"
    }
   ],
   "source": [
    "from matplotlib.colors import ListedColormap\n",
    "X_set, y_set = X_test, y_test\n",
    "X1, X2 = np.meshgrid(np.arange(start = X_set[:, 0].min() - 1, stop = X_set[:, 0].max() + 1, step = 0.01),\n",
    "                     np.arange(start = X_set[:, 1].min() - 1, stop = X_set[:, 1].max() + 1, step = 0.01))\n",
    "plt.contourf(X1, X2, classifier.predict(np.array([X1.ravel(), X2.ravel()]).T).reshape(X1.shape),\n",
    "             alpha = 0.75, cmap = ListedColormap(('red', 'green', 'blue')))\n",
    "plt.xlim(X1.min(), X1.max())\n",
    "plt.ylim(X2.min(), X2.max())\n",
    "for i, j in enumerate(np.unique(y_set)):\n",
    "    plt.scatter(X_set[y_set == j, 0], X_set[y_set == j, 1],\n",
    "                c = ListedColormap(('red', 'green', 'blue'))(i), label = j)\n",
    "plt.title('Logistic Regression (Test set)')\n",
    "plt.xlabel('PC1')\n",
    "plt.ylabel('PC2')\n",
    "plt.legend()\n",
    "plt.show()"
   ]
  },
  {
   "cell_type": "code",
   "execution_count": null,
   "metadata": {},
   "outputs": [],
   "source": []
  }
 ],
 "metadata": {
  "kernelspec": {
   "display_name": "Python 3",
   "language": "python",
   "name": "python3"
  },
  "language_info": {
   "codemirror_mode": {
    "name": "ipython",
    "version": 3
   },
   "file_extension": ".py",
   "mimetype": "text/x-python",
   "name": "python",
   "nbconvert_exporter": "python",
   "pygments_lexer": "ipython3",
   "version": "3.8.5"
  }
 },
 "nbformat": 4,
 "nbformat_minor": 4
}
