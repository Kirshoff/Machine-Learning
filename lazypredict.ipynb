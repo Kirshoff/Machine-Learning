{
 "cells": [
  {
   "cell_type": "markdown",
   "metadata": {},
   "source": [
    "# Classification"
   ]
  },
  {
   "cell_type": "code",
   "execution_count": 1,
   "metadata": {},
   "outputs": [
    {
     "name": "stderr",
     "output_type": "stream",
     "text": [
      "C:\\Users\\fatih\\AppData\\Roaming\\Python\\Python38\\site-packages\\sklearn\\utils\\deprecation.py:143: FutureWarning: The sklearn.utils.testing module is  deprecated in version 0.22 and will be removed in version 0.24. The corresponding classes / functions should instead be imported from sklearn.utils. Anything that cannot be imported from sklearn.utils is now part of the private API.\n",
      "  warnings.warn(message, FutureWarning)\n",
      "100%|██████████| 29/29 [00:00<00:00, 36.92it/s]"
     ]
    },
    {
     "name": "stdout",
     "output_type": "stream",
     "text": [
      "                               Accuracy  Balanced Accuracy  ROC AUC  F1 Score  \\\n",
      "Model                                                                           \n",
      "LinearSVC                          0.99               0.99     0.99      0.99   \n",
      "Perceptron                         0.99               0.98     0.98      0.99   \n",
      "LogisticRegression                 0.99               0.98     0.98      0.99   \n",
      "SVC                                0.98               0.98     0.98      0.98   \n",
      "XGBClassifier                      0.98               0.98     0.98      0.98   \n",
      "LabelPropagation                   0.98               0.97     0.97      0.98   \n",
      "LabelSpreading                     0.98               0.97     0.97      0.98   \n",
      "BaggingClassifier                  0.97               0.97     0.97      0.97   \n",
      "PassiveAggressiveClassifier        0.98               0.97     0.97      0.98   \n",
      "SGDClassifier                      0.98               0.97     0.97      0.98   \n",
      "RandomForestClassifier             0.97               0.97     0.97      0.97   \n",
      "CalibratedClassifierCV             0.98               0.97     0.97      0.98   \n",
      "QuadraticDiscriminantAnalysis      0.96               0.97     0.97      0.97   \n",
      "ExtraTreesClassifier               0.97               0.96     0.96      0.97   \n",
      "RidgeClassifierCV                  0.97               0.96     0.96      0.97   \n",
      "LGBMClassifier                     0.96               0.96     0.96      0.96   \n",
      "RidgeClassifier                    0.97               0.96     0.96      0.97   \n",
      "AdaBoostClassifier                 0.96               0.96     0.96      0.96   \n",
      "KNeighborsClassifier               0.96               0.96     0.96      0.96   \n",
      "BernoulliNB                        0.95               0.95     0.95      0.95   \n",
      "LinearDiscriminantAnalysis         0.96               0.95     0.95      0.96   \n",
      "GaussianNB                         0.95               0.95     0.95      0.95   \n",
      "NuSVC                              0.95               0.94     0.94      0.95   \n",
      "ExtraTreeClassifier                0.94               0.93     0.93      0.94   \n",
      "NearestCentroid                    0.95               0.93     0.93      0.95   \n",
      "DecisionTreeClassifier             0.93               0.93     0.93      0.93   \n",
      "DummyClassifier                    0.53               0.50     0.50      0.53   \n",
      "\n",
      "                               Time Taken  \n",
      "Model                                      \n",
      "LinearSVC                            0.01  \n",
      "Perceptron                           0.01  \n",
      "LogisticRegression                   0.01  \n",
      "SVC                                  0.01  \n",
      "XGBClassifier                        0.04  \n",
      "LabelPropagation                     0.02  \n",
      "LabelSpreading                       0.02  \n",
      "BaggingClassifier                    0.04  \n",
      "PassiveAggressiveClassifier          0.01  \n",
      "SGDClassifier                        0.01  \n",
      "RandomForestClassifier               0.17  \n",
      "CalibratedClassifierCV               0.03  \n",
      "QuadraticDiscriminantAnalysis        0.01  \n",
      "ExtraTreesClassifier                 0.09  \n",
      "RidgeClassifierCV                    0.01  \n",
      "LGBMClassifier                       0.04  \n",
      "RidgeClassifier                      0.01  \n",
      "AdaBoostClassifier                   0.11  \n",
      "KNeighborsClassifier                 0.02  \n",
      "BernoulliNB                          0.01  \n",
      "LinearDiscriminantAnalysis           0.01  \n",
      "GaussianNB                           0.01  \n",
      "NuSVC                                0.02  \n",
      "ExtraTreeClassifier                  0.01  \n",
      "NearestCentroid                      0.01  \n",
      "DecisionTreeClassifier               0.01  \n",
      "DummyClassifier                      0.01  \n"
     ]
    },
    {
     "name": "stderr",
     "output_type": "stream",
     "text": [
      "\n"
     ]
    }
   ],
   "source": [
    "# pip install lazypredict --user\n",
    "from lazypredict.Supervised import LazyClassifier\n",
    "from sklearn.datasets import load_breast_cancer\n",
    "from sklearn.model_selection import train_test_split\n",
    "\n",
    "data = load_breast_cancer()\n",
    "X = data.data\n",
    "y= data.target\n",
    "\n",
    "X_train, X_test, y_train, y_test = train_test_split(X, y,test_size=.5,random_state =123)\n",
    "\n",
    "clf = LazyClassifier(verbose=0,ignore_warnings=True, custom_metric=None)\n",
    "models,predictions = clf.fit(X_train, X_test, y_train, y_test)\n",
    "\n",
    "print(models)"
   ]
  },
  {
   "cell_type": "markdown",
   "metadata": {},
   "source": [
    "# Regression"
   ]
  },
  {
   "cell_type": "code",
   "execution_count": 2,
   "metadata": {},
   "outputs": [
    {
     "name": "stderr",
     "output_type": "stream",
     "text": [
      "100%|██████████| 42/42 [00:02<00:00, 18.08it/s]"
     ]
    },
    {
     "name": "stdout",
     "output_type": "stream",
     "text": [
      "                               Adjusted R-Squared  R-Squared  RMSE  Time Taken\n",
      "Model                                                                         \n",
      "SVR                                          0.83       0.88  2.62        0.02\n",
      "BaggingRegressor                             0.83       0.88  2.63        0.03\n",
      "NuSVR                                        0.82       0.86  2.76        0.01\n",
      "RandomForestRegressor                        0.81       0.86  2.78        0.24\n",
      "XGBRegressor                                 0.81       0.86  2.79        0.05\n",
      "GradientBoostingRegressor                    0.81       0.86  2.84        0.10\n",
      "ExtraTreesRegressor                          0.79       0.84  2.98        0.18\n",
      "AdaBoostRegressor                            0.78       0.83  3.04        0.09\n",
      "HistGradientBoostingRegressor                0.77       0.83  3.06        0.34\n",
      "PoissonRegressor                             0.77       0.83  3.11        0.01\n",
      "LGBMRegressor                                0.77       0.83  3.11        0.04\n",
      "KNeighborsRegressor                          0.77       0.83  3.12        0.01\n",
      "DecisionTreeRegressor                        0.65       0.74  3.79        0.02\n",
      "MLPRegressor                                 0.65       0.74  3.80        0.70\n",
      "HuberRegressor                               0.64       0.74  3.84        0.02\n",
      "GammaRegressor                               0.64       0.73  3.88        0.01\n",
      "LinearSVR                                    0.62       0.72  3.96        0.01\n",
      "RidgeCV                                      0.62       0.72  3.97        0.01\n",
      "BayesianRidge                                0.62       0.72  3.97        0.01\n",
      "Ridge                                        0.62       0.72  3.97        0.01\n",
      "TransformedTargetRegressor                   0.62       0.72  3.97        0.01\n",
      "LinearRegression                             0.62       0.72  3.97        0.01\n",
      "ElasticNetCV                                 0.62       0.72  3.98        0.05\n",
      "LassoCV                                      0.62       0.72  3.98        0.06\n",
      "LassoLarsIC                                  0.62       0.72  3.98        0.02\n",
      "LassoLarsCV                                  0.62       0.72  3.98        0.02\n",
      "Lars                                         0.61       0.72  3.99        0.01\n",
      "LarsCV                                       0.61       0.71  4.02        0.03\n",
      "SGDRegressor                                 0.60       0.70  4.07        0.01\n",
      "TweedieRegressor                             0.59       0.70  4.12        0.01\n",
      "GeneralizedLinearRegressor                   0.59       0.70  4.12        0.01\n",
      "ElasticNet                                   0.58       0.69  4.16        0.01\n",
      "Lasso                                        0.54       0.66  4.35        0.01\n",
      "RANSACRegressor                              0.53       0.65  4.41        0.04\n",
      "OrthogonalMatchingPursuitCV                  0.45       0.59  4.78        0.01\n",
      "PassiveAggressiveRegressor                   0.37       0.54  5.09        0.01\n",
      "GaussianProcessRegressor                     0.23       0.43  5.65        0.03\n",
      "OrthogonalMatchingPursuit                    0.16       0.38  5.89        0.01\n",
      "ExtraTreeRegressor                           0.08       0.32  6.17        0.02\n",
      "DummyRegressor                              -0.38      -0.02  7.56        0.01\n",
      "LassoLars                                   -0.38      -0.02  7.56        0.01\n",
      "KernelRidge                                -11.50      -8.25 22.74        0.02\n"
     ]
    },
    {
     "name": "stderr",
     "output_type": "stream",
     "text": [
      "\n"
     ]
    }
   ],
   "source": [
    "from lazypredict.Supervised import LazyRegressor\n",
    "from sklearn import datasets\n",
    "from sklearn.utils import shuffle\n",
    "import numpy as np\n",
    "\n",
    "boston = datasets.load_boston()\n",
    "X, y = shuffle(boston.data, boston.target, random_state=13)\n",
    "X = X.astype(np.float32)\n",
    "\n",
    "offset = int(X.shape[0] * 0.9)\n",
    "\n",
    "X_train, y_train = X[:offset], y[:offset]\n",
    "X_test, y_test = X[offset:], y[offset:]\n",
    "\n",
    "reg = LazyRegressor(verbose=0, ignore_warnings=False, custom_metric=None)\n",
    "models, predictions = reg.fit(X_train, X_test, y_train, y_test)\n",
    "\n",
    "print(models)"
   ]
  }
 ],
 "metadata": {
  "kernelspec": {
   "display_name": "Python 3",
   "language": "python",
   "name": "python3"
  },
  "language_info": {
   "codemirror_mode": {
    "name": "ipython",
    "version": 3
   },
   "file_extension": ".py",
   "mimetype": "text/x-python",
   "name": "python",
   "nbconvert_exporter": "python",
   "pygments_lexer": "ipython3",
   "version": "3.8.5"
  }
 },
 "nbformat": 4,
 "nbformat_minor": 5
}
