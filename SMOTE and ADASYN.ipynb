{
 "cells": [
  {
   "cell_type": "markdown",
   "metadata": {},
   "source": [
    "## SMOTE and ADASYN"
   ]
  },
  {
   "cell_type": "code",
   "execution_count": null,
   "metadata": {},
   "outputs": [],
   "source": [
    "from imblearn.over_sampling import SMOTE, ADASYN"
   ]
  },
  {
   "cell_type": "code",
   "execution_count": null,
   "metadata": {},
   "outputs": [],
   "source": [
    "y_s = df.Churn\n",
    "X_s = df.drop('Churn', axis=1)\n",
    "\n",
    "sm = SMOTE(random_state=111)\n",
    "X_smote, y_smote = sm.fit_sample(X_s, y_s)\n",
    "metrics=metrics.append(create_model(X_smote,y_smote,'L.Regression_with_SMOTE'))"
   ]
  },
  {
   "cell_type": "code",
   "execution_count": null,
   "metadata": {},
   "outputs": [],
   "source": [
    "def create_model(X,y,tip):\n",
    "    X_train, X_test, y_train, y_test =  train_test_split(X, y, test_size=0.20, random_state=111, stratify = y)\n",
    "    logistic = LogisticRegression(solver='liblinear',penalty='l1',C=0.1)\n",
    "    logistic.fit(X_train, y_train)\n",
    "    \n",
    "    prediction_train=logistic.predict(X_train)\n",
    "    prediction_test=logistic.predict(X_test)\n",
    "    \n",
    "    prediction_test_prob = logistic.predict_proba(X_test)[:,1]\n",
    "    \n",
    "    d = pd.Series({'Accuracy_Train':accuracy_score(y_train,prediction_train),\n",
    "                   'Precision_Train':precision_score(y_train,prediction_train),\n",
    "                   'Recall_Train':recall_score(y_train,prediction_train),\n",
    "                   'F1 Score_Train':f1_score(y_train,prediction_train),\n",
    "                   'Accuracy_Test':accuracy_score(y_test,prediction_test),\n",
    "                   'Precision_Test':precision_score(y_test,prediction_test),\n",
    "                   'Recall_Test':recall_score(y_test,prediction_test),\n",
    "                   'F1 Score_Test':f1_score(y_test,prediction_test),\n",
    "                   'AUC Score':roc_auc_score(y_test, prediction_test_prob)},name=tip)\n",
    "    return d"
   ]
  },
  {
   "cell_type": "code",
   "execution_count": null,
   "metadata": {},
   "outputs": [],
   "source": []
  }
 ],
 "metadata": {
  "kernelspec": {
   "display_name": "Python 3",
   "language": "python",
   "name": "python3"
  },
  "language_info": {
   "codemirror_mode": {
    "name": "ipython",
    "version": 3
   },
   "file_extension": ".py",
   "mimetype": "text/x-python",
   "name": "python",
   "nbconvert_exporter": "python",
   "pygments_lexer": "ipython3",
   "version": "3.8.5"
  }
 },
 "nbformat": 4,
 "nbformat_minor": 4
}
